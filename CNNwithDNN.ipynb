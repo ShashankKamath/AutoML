{
  "nbformat": 4,
  "nbformat_minor": 0,
  "metadata": {
    "colab": {
      "name": "CNNwithDNN.ipynb",
      "version": "0.3.2",
      "provenance": [],
      "collapsed_sections": [],
      "include_colab_link": true
    },
    "kernelspec": {
      "name": "python3",
      "display_name": "Python 3"
    },
    "accelerator": "GPU"
  },
  "cells": [
    {
      "cell_type": "markdown",
      "metadata": {
        "id": "view-in-github",
        "colab_type": "text"
      },
      "source": [
        "<a href=\"https://colab.research.google.com/github/ShashankKamath/AutoML/blob/master/CNNwithDNN.ipynb\" target=\"_parent\"><img src=\"https://colab.research.google.com/assets/colab-badge.svg\" alt=\"Open In Colab\"/></a>"
      ]
    },
    {
      "cell_type": "code",
      "metadata": {
        "id": "-TQUFqGpZ-3B",
        "colab_type": "code",
        "outputId": "2d176455-d582-4a18-cce8-9bb3aea02d5e",
        "colab": {
          "base_uri": "https://localhost:8080/",
          "height": 122
        }
      },
      "source": [
        "import os\n",
        "from google.colab import drive\n",
        "drive.mount('/content/drive')\n",
        "os.chdir('/content/drive/My Drive/autoML')"
      ],
      "execution_count": 0,
      "outputs": [
        {
          "output_type": "stream",
          "text": [
            "Go to this URL in a browser: https://accounts.google.com/o/oauth2/auth?client_id=947318989803-6bn6qk8qdgf4n4g3pfee6491hc0brc4i.apps.googleusercontent.com&redirect_uri=urn%3Aietf%3Awg%3Aoauth%3A2.0%3Aoob&scope=email%20https%3A%2F%2Fwww.googleapis.com%2Fauth%2Fdocs.test%20https%3A%2F%2Fwww.googleapis.com%2Fauth%2Fdrive%20https%3A%2F%2Fwww.googleapis.com%2Fauth%2Fdrive.photos.readonly%20https%3A%2F%2Fwww.googleapis.com%2Fauth%2Fpeopleapi.readonly&response_type=code\n",
            "\n",
            "Enter your authorization code:\n",
            "··········\n",
            "Mounted at /content/drive\n"
          ],
          "name": "stdout"
        }
      ]
    },
    {
      "cell_type": "code",
      "metadata": {
        "id": "fus89qp9UQvN",
        "colab_type": "code",
        "colab": {}
      },
      "source": [
        "import torch\n",
        "import torchvision"
      ],
      "execution_count": 0,
      "outputs": []
    },
    {
      "cell_type": "code",
      "metadata": {
        "id": "oqMAv1_2Ui0g",
        "colab_type": "code",
        "outputId": "c475080c-8080-4aa2-aa50-d9b8430cc18d",
        "colab": {
          "base_uri": "https://localhost:8080/",
          "height": 34
        }
      },
      "source": [
        "n_epochs = 3\n",
        "batch_size_train = 64\n",
        "batch_size_test = 1000\n",
        "learning_rate = 0.01\n",
        "momentum = 0.5\n",
        "log_interval = 10\n",
        "\n",
        "random_seed = 1\n",
        "torch.backends.cudnn.enabled = False\n",
        "torch.manual_seed(random_seed)"
      ],
      "execution_count": 0,
      "outputs": [
        {
          "output_type": "execute_result",
          "data": {
            "text/plain": [
              "<torch._C.Generator at 0x7f1844126d10>"
            ]
          },
          "metadata": {
            "tags": []
          },
          "execution_count": 2
        }
      ]
    },
    {
      "cell_type": "code",
      "metadata": {
        "id": "OiDjx3JIUnmY",
        "colab_type": "code",
        "outputId": "62db6280-f7e4-4fb6-fe1b-4ff041ff25fc",
        "colab": {
          "base_uri": "https://localhost:8080/",
          "height": 255
        }
      },
      "source": [
        "train_loader = torch.utils.data.DataLoader(\n",
        "  torchvision.datasets.MNIST('/files/', train=True, download=True,\n",
        "                             transform=torchvision.transforms.Compose([\n",
        "                               torchvision.transforms.ToTensor(),\n",
        "                               torchvision.transforms.Normalize(\n",
        "                                 (0.1307,), (0.3081,))\n",
        "                             ])),\n",
        "  batch_size=batch_size_train, shuffle=True)\n",
        "\n",
        "test_loader = torch.utils.data.DataLoader(\n",
        "  torchvision.datasets.MNIST('/files/', train=False, download=True,\n",
        "                             transform=torchvision.transforms.Compose([\n",
        "                               torchvision.transforms.ToTensor(),\n",
        "                               torchvision.transforms.Normalize(\n",
        "                                 (0.1307,), (0.3081,))\n",
        "                             ])),\n",
        "  batch_size=batch_size_test, shuffle=True)"
      ],
      "execution_count": 0,
      "outputs": [
        {
          "output_type": "stream",
          "text": [
            "\r0it [00:00, ?it/s]"
          ],
          "name": "stderr"
        },
        {
          "output_type": "stream",
          "text": [
            "Downloading http://yann.lecun.com/exdb/mnist/train-images-idx3-ubyte.gz to /files/MNIST/raw/train-images-idx3-ubyte.gz\n"
          ],
          "name": "stdout"
        },
        {
          "output_type": "stream",
          "text": [
            "9920512it [00:03, 3007791.06it/s]                             \n"
          ],
          "name": "stderr"
        },
        {
          "output_type": "stream",
          "text": [
            "Extracting /files/MNIST/raw/train-images-idx3-ubyte.gz\n"
          ],
          "name": "stdout"
        },
        {
          "output_type": "stream",
          "text": [
            "\r0it [00:00, ?it/s]"
          ],
          "name": "stderr"
        },
        {
          "output_type": "stream",
          "text": [
            "Downloading http://yann.lecun.com/exdb/mnist/train-labels-idx1-ubyte.gz to /files/MNIST/raw/train-labels-idx1-ubyte.gz\n"
          ],
          "name": "stdout"
        },
        {
          "output_type": "stream",
          "text": [
            "32768it [00:00, 67737.69it/s]                            \n",
            "0it [00:00, ?it/s]"
          ],
          "name": "stderr"
        },
        {
          "output_type": "stream",
          "text": [
            "Extracting /files/MNIST/raw/train-labels-idx1-ubyte.gz\n",
            "Downloading http://yann.lecun.com/exdb/mnist/t10k-images-idx3-ubyte.gz to /files/MNIST/raw/t10k-images-idx3-ubyte.gz\n"
          ],
          "name": "stdout"
        },
        {
          "output_type": "stream",
          "text": [
            "1654784it [00:01, 1043305.52it/s]                            \n",
            "0it [00:00, ?it/s]"
          ],
          "name": "stderr"
        },
        {
          "output_type": "stream",
          "text": [
            "Extracting /files/MNIST/raw/t10k-images-idx3-ubyte.gz\n",
            "Downloading http://yann.lecun.com/exdb/mnist/t10k-labels-idx1-ubyte.gz to /files/MNIST/raw/t10k-labels-idx1-ubyte.gz\n"
          ],
          "name": "stdout"
        },
        {
          "output_type": "stream",
          "text": [
            "8192it [00:00, 26111.53it/s]            "
          ],
          "name": "stderr"
        },
        {
          "output_type": "stream",
          "text": [
            "Extracting /files/MNIST/raw/t10k-labels-idx1-ubyte.gz\n",
            "Processing...\n",
            "Done!\n"
          ],
          "name": "stdout"
        },
        {
          "output_type": "stream",
          "text": [
            "\n"
          ],
          "name": "stderr"
        }
      ]
    },
    {
      "cell_type": "code",
      "metadata": {
        "id": "PRd8UpuPUzq7",
        "colab_type": "code",
        "outputId": "9e642267-dde8-463c-f95f-6295581c43fc",
        "colab": {
          "base_uri": "https://localhost:8080/",
          "height": 34
        }
      },
      "source": [
        "examples = enumerate(test_loader)\n",
        "batch_idx, (example_data, example_targets) = next(examples)\n",
        "example_data.shape"
      ],
      "execution_count": 0,
      "outputs": [
        {
          "output_type": "execute_result",
          "data": {
            "text/plain": [
              "torch.Size([1000, 1, 28, 28])"
            ]
          },
          "metadata": {
            "tags": []
          },
          "execution_count": 4
        }
      ]
    },
    {
      "cell_type": "code",
      "metadata": {
        "id": "-NtO0SFoU3Bx",
        "colab_type": "code",
        "outputId": "0830c96f-c821-4e55-ada4-63871de1c9de",
        "colab": {
          "base_uri": "https://localhost:8080/",
          "height": 551
        }
      },
      "source": [
        "import matplotlib.pyplot as plt\n",
        "\n",
        "fig = plt.figure()\n",
        "for i in range(6):\n",
        "  plt.subplot(2,3,i+1)\n",
        "  plt.tight_layout()\n",
        "  plt.imshow(example_data[i][0], cmap='gray', interpolation='none')\n",
        "  plt.title(\"Ground Truth: {}\".format(example_targets[i]))\n",
        "  plt.xticks([])\n",
        "  plt.yticks([])\n",
        "fig"
      ],
      "execution_count": 0,
      "outputs": [
        {
          "output_type": "execute_result",
          "data": {
            "image/png": "[encoded data removed]",
            "text/plain": [
              "<Figure size 432x288 with 6 Axes>"
            ]
          },
          "metadata": {
            "tags": []
          },
          "execution_count": 9
        },
        {
          "output_type": "display_data",
          "data": {
            "image/png": "[encoded data removed]",
            "text/plain": [
              "<Figure size 432x288 with 6 Axes>"
            ]
          },
          "metadata": {
            "tags": []
          }
        }
      ]
    },
    {
      "cell_type": "markdown",
      "metadata": {
        "id": "DvpjxbccU5ne",
        "colab_type": "text"
      },
      "source": [
        "Building the Network"
      ]
    },
    {
      "cell_type": "code",
      "metadata": {
        "id": "UCnKRAoVU69e",
        "colab_type": "code",
        "colab": {}
      },
      "source": [
        "import torch.nn as nn\n",
        "import torch.nn.functional as F\n",
        "import torch.optim as optim\n",
        "from torch.autograd import Variable\n",
        "from torchsummary  import summary\n",
        "device = torch.device(\"cuda\" if torch.cuda.is_available() else \"cpu\")"
      ],
      "execution_count": 0,
      "outputs": []
    },
    {
      "cell_type": "markdown",
      "metadata": {
        "id": "LGE9QGvpT359",
        "colab_type": "text"
      },
      "source": [
        "Padding: ((n+2p-f)/s)+1 x((n+2p-f)/s)+1\n",
        "p= (f-1)/2 for output size to be same as input size\n"
      ]
    },
    {
      "cell_type": "markdown",
      "metadata": {
        "id": "g75UVpqlcCqx",
        "colab_type": "text"
      },
      "source": [
        "CNN Number of layers change with padding working\n"
      ]
    },
    {
      "cell_type": "code",
      "metadata": {
        "id": "xyTwo8A4F_Kx",
        "colab_type": "code",
        "colab": {}
      },
      "source": [
        "# class CNNtry(nn.Module):\n",
        "#     fc_unit=0\n",
        "#     def __init__(self,numLayers,fc_unit):\n",
        "#         super(CNNtry, self).__init__()\n",
        "#         self.layers = nn.ModuleList()\n",
        "#         self.layers.append(nn.Conv2d(1, 5, kernel_size=3,padding=0))\n",
        "# #         try:\n",
        "#         for i in range(numLayers - 2):\n",
        "#           self.layers.append(nn.Conv2d(in_channels=5, out_channels=5, kernel_size=3,padding=0))  \n",
        "#         self.layers.append(nn.Conv2d(5, 1, kernel_size=3,padding=0))\n",
        "#         self.layers.append(nn.Linear(fc_unit,50))\n",
        "#         self.layers.append(nn.Linear(50,10))\n",
        "#         print(self)\n",
        "hi\n",
        "#     def forward(self, x):\n",
        "#       y = x\n",
        "# #       print(y.shape)\n",
        "#       try:\n",
        "#         y = F.relu(F.max_pool2d(self.layers[0](y),kernel_size=(2, 2)))   \n",
        "#         print(\"First Layer\",y.shape)\n",
        "#         for i in range(len(self.layers)-4):\n",
        "#           y = F.relu(F.max_pool2d(self.layers[i+1](y),kernel_size=(2, 2))) #self.layers[i+1](y)\n",
        "#           print(\"Middle Layer\",y.shape)\n",
        "#         y = F.relu(F.max_pool2d(self.layers[-3](y),kernel_size=(2,2)))\n",
        "#         print(\"Last Layer\",y.size())\n",
        "\n",
        "#         y = y.view(-1,(y.size(1)*y.size(2)*y.size(3)))\n",
        "#         print(\"Before FC\",y.size())\n",
        "\n",
        "#         y = F.relu(self.layers[-2](y))\n",
        "#         print(\"FC1\",y.size())\n",
        "      \n",
        "#         y = self.layers[-1](y)\n",
        "#         print(\"FC2\",y.size())\n",
        "        \n",
        "#         return F.log_softmax(y)\n",
        "      \n",
        "#       except Exception as e:\n",
        "#         print(\"Entered Exception\",str(e))  \n",
        "#         if \"Kernel size can't be greater than actual input size\" in str(e):\n",
        "#           print(\"Kernel Size exceed- Not possible config\")\n",
        "#           return torch.tensor([0])\n",
        "        \n",
        "        \n",
        "#         elif \"is invalid for input of size\" or \"size mismatch\" in str(e):\n",
        "#           print(\"Fully Connected Change required\")\n",
        "# #           y = y.view(-1,(y.size(1)*y.size(2)*y.size(3)))\n",
        "#           y = y.view(y.size(0),-1)\n",
        "#           fc_unit=y.size(1)\n",
        "#           print(\"Layers:\",len(self.layers))\n",
        "          \n",
        "#           model2 = CNNtry((len(self.layers)-2),fc_unit)\n",
        "#           accuracy = test(model2,g_accuracy)\n",
        "#           g_accuracy.append([accuracy])\n",
        "#           print(\"Accuracy 2nd time\",accuracy)\n",
        "#           accuracy_1=accuracy\n",
        "#           return accuracy_1\n",
        "# #         print(y.size()) \n",
        " \n",
        "# num_layer=1\n",
        "# model1 = CNNtry(num_layer,50)\n",
        "\n",
        "# optimizer = optim.SGD(model1.parameters(), lr=learning_rate,momentum=momentum)\n",
        "# try:\n",
        "#   g_accuracy=[]\n",
        "#   accuracy_1=test(model1,g_accuracy)\n",
        "#   g_accuracy.append(accuracy_1)\n",
        "#   print(\"Accuracy 1st time\",accuracy)\n",
        "# except Exception as e:\n",
        "# #   accuracy_1=g_accuracy[-1]\n",
        "#   print(\"Entered Exception\",str(e))\n",
        "  \n",
        "\n",
        "# print(g_accuracy)\n",
        "\n"
      ],
      "execution_count": 0,
      "outputs": []
    },
    {
      "cell_type": "markdown",
      "metadata": {
        "id": "aEtFAR3kdIoK",
        "colab_type": "text"
      },
      "source": [
        "New Function to check if CNN configuration is possible or not"
      ]
    },
    {
      "cell_type": "code",
      "metadata": {
        "id": "lh9ddCrScCYh",
        "colab_type": "code",
        "colab": {}
      },
      "source": [
        "class CNNtrain(nn.Module):\n",
        "    def __init__(self,numLayers,channel):\n",
        "        super(CNNtrain, self).__init__()\n",
        "        self.layers = nn.ModuleList()\n",
        "        i=0\n",
        "        self.layers.append(nn.Conv2d(channel[i], channel[i+1], kernel_size=3,padding=0))\n",
        "        i+=1\n",
        "        for j in range(numLayers - 2):\n",
        "          self.layers.append(nn.Conv2d(in_channels=channel[i], out_channels=channel[i+1], kernel_size=3,padding=0))\n",
        "          i+=1\n",
        "        self.layers.append(nn.Conv2d(channel[i], channel[i+1], kernel_size=3,padding=0))\n",
        "        i+=2\n",
        "        self.layers.append(nn.Linear(channel[i],channel[i+1]))\n",
        "        i+=1\n",
        "        self.layers.append(nn.Linear(channel[i],channel[i+1]))\n",
        "#         print(self)\n",
        "\n",
        "    def forward(self, x):\n",
        "      y = x\n",
        "#       print(y.shape)\n",
        "      y = F.relu(F.max_pool2d(self.layers[0](y),kernel_size=(2, 2)))   \n",
        "#       print(y.shape)\n",
        "      for i in range(len(self.layers)-4):\n",
        "        y = F.relu(F.max_pool2d(self.layers[i+1](y),kernel_size=(2, 2))) #self.layers[i+1](y)\n",
        "#         print(y.shape)\n",
        "      y = F.relu(F.max_pool2d(self.layers[-3](y),kernel_size=(2, 2)))\n",
        "#       print(y.size())\n",
        "      y = y.view(-1,channel[-3])\n",
        "#       print(\"BFC\",y.size())\n",
        "      y = F.relu(self.layers[-2](y))\n",
        "#       print(\"FC1\",y.size())\n",
        "      y = self.layers[-1](y)\n",
        "#       print(\"FC2\",y.size())\n",
        "      \n",
        "      return F.log_softmax(y)"
      ],
      "execution_count": 0,
      "outputs": []
    },
    {
      "cell_type": "code",
      "metadata": {
        "id": "jOhuuw01dMHw",
        "colab_type": "code",
        "colab": {}
      },
      "source": [
        "import random\n",
        "\n",
        "class CNNpossible(nn.Module):\n",
        "    def __init__(self,numLayers):\n",
        "        super(CNNpossible, self).__init__()\n",
        "        self.layers = nn.ModuleList()\n",
        "        channel.append(1)\n",
        "        channel.append(random.randint(5,10))\n",
        "        self.layers.append(nn.Conv2d(channel[-2], channel[-1], kernel_size=3,padding=0))\n",
        "        for i in range(numLayers - 2):\n",
        "          channel.append(random.randint(5,10))\n",
        "          self.layers.append(nn.Conv2d(in_channels=channel[-2], out_channels=channel[-1], kernel_size=3,padding=0))  \n",
        "        channel.append(1)\n",
        "        self.layers.append(nn.Conv2d(channel[-2], channel[-1], kernel_size=3,padding=0))\n",
        "        channel.append(25)\n",
        "        channel.append(50)\n",
        "        channel.append(10)\n",
        "        self.layers.append(nn.Linear(channel[-3],channel[-2]))\n",
        "        self.layers.append(nn.Linear(channel[-2],channel[-1]))\n",
        "#         print(\"Channel Details:\",channel)\n",
        "#         print(self)\n",
        "\n",
        "    def forward(self, x):\n",
        "      y = x\n",
        "#       print(y.shape)\n",
        "      try:\n",
        "        y = F.relu(F.max_pool2d(self.layers[0](y),kernel_size=(2, 2)))   \n",
        "#         print(\"First Layer\",y.shape)\n",
        "        for i in range(len(self.layers)-4):\n",
        "          y = F.relu(F.max_pool2d(self.layers[i+1](y),kernel_size=(2, 2))) #self.layers[i+1](y)\n",
        "#           print(\"Middle Layer\",y.shape)\n",
        "        y = F.relu(F.max_pool2d(self.layers[-3](y),kernel_size=(2,2)))\n",
        "#         print(\"Last Layer\",y.size())\n",
        "\n",
        "        y = y.view(-1,(y.size(1)*y.size(2)*y.size(3)))\n",
        "#         print(\"Before FC\",y.size())\n",
        "\n",
        "        y = F.relu(self.layers[-2](y))\n",
        "#         print(\"FC1\",y.size())\n",
        "      \n",
        "        y = self.layers[-1](y)\n",
        "#         print(\"FC2\",y.size())\n",
        "        \n",
        "        return True\n",
        "      \n",
        "      except Exception as e:\n",
        "#         print(\"Entered Exception\",str(e))  \n",
        "        if \"Kernel size can't be greater than actual input size\" in str(e):\n",
        "#           print(\"Kernel Size exceed- Not possible config\")\n",
        "          return False #torch.tensor([0])\n",
        "        \n",
        "        \n",
        "        elif \"is invalid for input of size\" or \"size mismatch\" in str(e):\n",
        "#           print(\"Fully Connected Change required\")\n",
        "#           y = y.view(-1,(y.size(1)*y.size(2)*y.size(3)))\n",
        "          y = y.view(y.size(0),-1)\n",
        "          channel[-3]=y.size(1)\n",
        "          channel[-2]=random.randint(5,50)\n",
        "#           print(\"Channel Details after FC:\",channel)\n",
        "          return True\n",
        "\n"
      ],
      "execution_count": 0,
      "outputs": []
    },
    {
      "cell_type": "markdown",
      "metadata": {
        "id": "-X_-9kf6U-Vx",
        "colab_type": "text"
      },
      "source": [
        "Training\n"
      ]
    },
    {
      "cell_type": "code",
      "metadata": {
        "id": "e8-wL6RaU_vN",
        "colab_type": "code",
        "colab": {}
      },
      "source": [
        "train_losses = []\n",
        "train_counter = []\n",
        "test_losses = []\n",
        "test_counter = [i*len(train_loader.dataset) for i in range(n_epochs + 1)]"
      ],
      "execution_count": 0,
      "outputs": []
    },
    {
      "cell_type": "code",
      "metadata": {
        "id": "Qie3vN-tVA1c",
        "colab_type": "code",
        "colab": {}
      },
      "source": [
        "def train(model2,optimizer2,epoch):\n",
        "  model2.train()\n",
        "  for batch_idx, (data, target) in enumerate(train_loader):\n",
        "    optimizer2.zero_grad()\n",
        "    output = model2(data)\n",
        "    loss = F.nll_loss(output, target)  \n",
        "    loss.backward()\n",
        "    optimizer2.step()\n",
        "    if batch_idx % log_interval == 0:\n",
        "#       print('Train Epoch: {} [{}/{} ({:.0f}%)]\\tLoss: {:.6f}'.format(\n",
        "#         epoch, batch_idx * len(data), len(train_loader.dataset),\n",
        "#         100. * batch_idx / len(train_loader), loss.item()))\n",
        "      train_losses.append(loss.item())\n",
        "      train_counter.append(\n",
        "        (batch_idx*64) + ((epoch-1)*len(train_loader.dataset)))\n",
        "      torch.save(model2.state_dict(), 'model2.pth')\n",
        "      torch.save(optimizer2.state_dict(), 'optimizer2.pth')"
      ],
      "execution_count": 0,
      "outputs": []
    },
    {
      "cell_type": "markdown",
      "metadata": {
        "id": "b6p9eFVWlDeS",
        "colab_type": "text"
      },
      "source": [
        "Old test"
      ]
    },
    {
      "cell_type": "code",
      "metadata": {
        "id": "AP-7cHKklC3f",
        "colab_type": "code",
        "colab": {}
      },
      "source": [
        "def test(model1):\n",
        "  model1.eval()\n",
        "  test_loss = 0\n",
        "  correct = 0\n",
        "  with torch.no_grad():\n",
        "    for data, target in test_loader:\n",
        "      output = model1(data)\n",
        "      test_loss += F.nll_loss(output, target, size_average=False).item()\n",
        "      pred = output.data.max(1, keepdim=True)[1]\n",
        "      correct += pred.eq(target.data.view_as(pred)).sum()\n",
        "  test_loss /= len(test_loader.dataset)\n",
        "  test_losses.append(test_loss)\n",
        "  accuracy= 100. * correct / len(test_loader.dataset)\n",
        "#   print('\\nTest set: Avg. loss: {:.4f}, Accuracy: {}/{} ({:.0f}%)\\n'.format(\n",
        "#     test_loss, correct, len(test_loader.dataset),\n",
        "#     100. * correct / len(test_loader.dataset)))\n",
        "  return accuracy"
      ],
      "execution_count": 0,
      "outputs": []
    },
    {
      "cell_type": "code",
      "metadata": {
        "id": "uT0zz-W6gy9L",
        "colab_type": "code",
        "outputId": "242ecfe4-720b-4ab0-903b-d7edf8f0e4e2",
        "colab": {
          "base_uri": "https://localhost:8080/",
          "height": 600
        }
      },
      "source": [
        "def test_possible(model):\n",
        "    for data, target in test_loader:\n",
        "      result = model(data)\n",
        "      if result==False:\n",
        "#         print(\"Correct Layer:\",num_layer)\n",
        "#         print(\"Channel: \",channel)\n",
        "        y.append([0])\n",
        "        x.append([num_layer,channel])\n",
        "#         print(\"X\",x)\n",
        "#         print(\"Y\",y)\n",
        "        break\n",
        "      elif result==True:\n",
        "#         print(\"Correct Layer:\",num_layer)\n",
        "#         print(\"Channel: \",channel)  \n",
        "        x.append([num_layer,channel])\n",
        "        model2 = CNNtrain(num_layer,channel)\n",
        "        optimizer2 = optim.SGD(model2.parameters(), lr=learning_rate,momentum=momentum)  \n",
        "#         accuracy=test(model2)\n",
        "#         print(\"Accuracy Before Training:\",accuracy)\n",
        "        for epoch in range(1, n_epochs + 1):\n",
        "          train(model2,optimizer2,epoch)\n",
        "        accuracy=int(test(model2))\n",
        "        print(\"Accuracy after Training:\",accuracy)\n",
        "        y.append([accuracy])\n",
        "#         print(\"X\",x)\n",
        "#         print(\"Y\",y)         \n",
        "        break\n",
        "                 \n",
        "x=[]\n",
        "y=[]\n",
        "n_epochs=5\n",
        "for run in range(1,21):\n",
        "  print(\"Iterations\",run)\n",
        "  num_layer=random.randint(1,5)\n",
        "  channel=[]\n",
        "  model = CNNpossible(num_layer)\n",
        "  optimizer = optim.SGD(model.parameters(), lr=learning_rate,momentum=momentum)\n",
        "  test_possible(model)\n",
        "\n",
        "print(x)\n",
        "print(y)"
      ],
      "execution_count": 0,
      "outputs": [
        {
          "output_type": "stream",
          "text": [
            "Iterations 1\n",
            "Iterations 2\n"
          ],
          "name": "stdout"
        },
        {
          "output_type": "stream",
          "text": [
            "/usr/local/lib/python3.6/dist-packages/ipykernel_launcher.py:35: UserWarning: Implicit dimension choice for log_softmax has been deprecated. Change the call to include dim=X as an argument.\n",
            "/usr/local/lib/python3.6/dist-packages/torch/nn/_reduction.py:46: UserWarning: size_average and reduce args will be deprecated, please use reduction='sum' instead.\n",
            "  warnings.warn(warning.format(ret))\n"
          ],
          "name": "stderr"
        },
        {
          "output_type": "stream",
          "text": [
            "Accuracy after Training: 88\n",
            "Iterations 3\n",
            "Accuracy after Training: 88\n",
            "Iterations 4\n",
            "Iterations 5\n",
            "Accuracy after Training: 11\n",
            "Iterations 6\n",
            "Iterations 7\n",
            "Iterations 8\n",
            "Iterations 9\n",
            "Iterations 10\n",
            "Iterations 11\n",
            "Iterations 12\n",
            "Iterations 13\n",
            "Iterations 14\n",
            "Iterations 15\n",
            "Accuracy after Training: 86\n",
            "Iterations 16\n",
            "Iterations 17\n",
            "Accuracy after Training: 19\n",
            "Iterations 18\n",
            "Accuracy after Training: 86\n",
            "Iterations 19\n",
            "Accuracy after Training: 84\n",
            "Iterations 20\n",
            "Accuracy after Training: 86\n",
            "[[4, [1, 6, 6, 10, 1, 25, 50, 10]], [2, [1, 5, 1, 25, 50, 10]], [2, [1, 8, 1, 25, 50, 10]], [4, [1, 9, 9, 7, 1, 25, 50, 10]], [3, [1, 6, 10, 1, 1, 49, 10]], [4, [1, 10, 7, 7, 1, 25, 50, 10]], [4, [1, 9, 10, 6, 1, 25, 50, 10]], [4, [1, 9, 5, 7, 1, 25, 50, 10]], [4, [1, 8, 10, 7, 1, 25, 50, 10]], [4, [1, 7, 5, 10, 1, 25, 50, 10]], [4, [1, 8, 10, 10, 1, 25, 50, 10]], [5, [1, 9, 7, 7, 10, 1, 25, 50, 10]], [5, [1, 9, 6, 10, 6, 1, 25, 50, 10]], [4, [1, 5, 8, 9, 1, 25, 50, 10]], [2, [1, 10, 1, 25, 50, 10]], [5, [1, 9, 7, 6, 5, 1, 25, 50, 10]], [3, [1, 7, 10, 1, 1, 30, 10]], [2, [1, 5, 1, 25, 50, 10]], [2, [1, 6, 1, 25, 50, 10]], [2, [1, 6, 1, 25, 50, 10]]]\n",
            "[[0], [88], [88], [0], [11], [0], [0], [0], [0], [0], [0], [0], [0], [0], [86], [0], [19], [86], [84], [86]]\n"
          ],
          "name": "stdout"
        }
      ]
    },
    {
      "cell_type": "markdown",
      "metadata": {
        "id": "w76GWFMzY90n",
        "colab_type": "text"
      },
      "source": [
        "x = [[9, [1, 5, 8, 6, 5, 5, 8, 7, 10, 1, 25, 50, 10]], [8, [1, 9, 6, 7, 6, 7, 8, 8, 1, 25, 50, 10]], [8, [1, 7, 5, 8, 10, 6, 5, 8, 1, 25, 50, 10]], [4, [1, 8, 7, 7, 1, 25, 50, 10]], [7, [1, 7, 10, 9, 6, 8, 7, 1, 25, 50, 10]], [10, [1, 5, 9, 6, 5, 8, 7, 10, 7, 8, 1, 25, 50, 10]], [9, [1, 7, 5, 7, 7, 10, 8, 8, 9, 1, 25, 50, 10]], [6, [1, 8, 8, 9, 6, 5, 1, 25, 50, 10]], [7, [1, 6, 10, 9, 7, 5, 8, 1, 25, 50, 10]], [3, [1, 6, 7, 1, 1, 40, 10]], [5, [1, 9, 6, 8, 7, 1, 25, 50, 10]], [2, [1, 9, 1, 25, 50, 10]], [3, [1, 7, 7, 1, 1, 39, 10]], [2, [1, 5, 1, 25, 50, 10]], [1, [1, 9, 1, 25, 50, 10]], [1, [1, 8, 1, 25, 50, 10]], [4, [1, 7, 9, 8, 1, 25, 50, 10]], [2, [1, 8, 1, 25, 50, 10]],[3, [1, 7, 8, 1, 1, 11, 10]], [2, [1, 7, 1, 25, 50, 10]], [1, [1, 6, 1, 25, 50, 10]], [2, [1, 9, 1, 25, 50, 10]], [1, [1, 5, 1, 25, 50, 10]], [4, [1, 7, 10, 5, 1, 25, 50, 10]], [2, [1, 10, 1, 25, 50, 10]], [5, [1, 7, 9, 5, 6, 1, 25, 50, 10]], [1, [1, 10, 1, 25, 50, 10]],[5, [1, 5, 9, 5, 6, 1, 25, 50, 10]], [10, [1, 7, 7, 9, 6, 6, 10, 6, 6, 10, 1, 25, 50, 10]], [7, [1, 8, 10, 7, 7, 9, 7, 1, 25, 50, 10]], [10, [1, 9, 8, 5, 8, 6, 10, 7, 8, 9, 1, 25, 50, 10]], [10, [1, 5, 8, 8, 5, 6, 9, 8, 9, 5, 1, 25, 50, 10]], [9, [1, 5, 8, 6, 8, 6, 10, 6, 8, 1, 25, 50, 10]], [7, [1, 5, 8, 6, 5, 10, 8, 1, 25, 50, 10]], [6, [1, 8, 5, 8, 6, 10, 1, 25, 50, 10]], [10, [1, 6, 7, 5, 10, 7, 8, 5, 8, 8, 1, 25, 50, 10]], [7, [1, 6, 6, 8, 8, 8, 8, 1, 25, 50, 10]], [7, [1, 5, 8, 10, 7, 6, 9, 1, 25, 50, 10]], [10, [1, 9, 8, 6, 8, 5, 6, 9, 9, 7, 1, 25, 50, 10]], [5, [1, 10, 5, 8, 7, 1, 25, 50, 10]], [9, [1, 8, 8, 9, 5, 7, 6, 10, 6, 1, 25, 50, 10]], [7, [1, 5, 9, 9, 6, 5, 6, 1, 25, 50, 10]], [6, [1, 8, 8, 5, 8, 8, 1, 25, 50, 10]], [6, [1, 6, 6, 7, 6, 5, 1, 25, 50, 10]], [10, [1, 5, 8, 7, 6, 8, 6, 7, 9, 5, 1, 25, 50, 10]], [10, [1, 9, 10, 10, 8, 8, 8, 6, 7, 10, 1, 25, 50, 10]],[5, [1, 6, 7, 8, 5, 1, 25, 50, 10]], [3, [1, 6, 7, 1, 1, 13, 10]], [4, [1, 9, 8, 10, 1, 25, 50, 10]], [5, [1, 5, 10, 9, 7, 1, 25, 50, 10]], [4, [1, 5, 7, 7, 1, 25, 50, 10]], [3, [1, 10, 6, 1, 1, 15, 10]], [2, [1, 10, 1, 25, 50, 10]], [2, [1, 10, 1, 25, 50, 10]], [3, [1, 6, 8, 1, 1, 24, 10]], [1, [1, 6, 1, 25, 50, 10]],[4, [1, 9, 8, 6, 1, 25, 50, 10]], [2, [1, 8, 1, 25, 50, 10]], [1, [1, 7, 1, 25, 50, 10]], [1, [1, 7, 1, 25, 50, 10]], [2, [1, 7, 1, 25, 50, 10]], [2, [1, 6, 1, 25, 50, 10]], [3, [1, 9, 10, 1, 1, 26, 10]], [1, [1, 6, 1, 25, 50, 10]], [2, [1, 10, 1, 25, 50, 10]], [3, [1, 7, 9, 1, 1, 20, 10]],[13, [1, 7, 9, 6, 10, 6, 9, 9, 10, 6, 5, 9, 5, 1, 25, 50, 10]], [13, [1, 9, 10, 8, 8, 7, 9, 8, 6, 10, 8, 9, 6, 1, 25, 50, 10]], [12, [1, 6, 10, 9, 8, 8, 5, 7, 10, 9, 7, 6, 1, 25, 50, 10]], [11, [1, 5, 9, 10, 7, 8, 8, 7, 5, 9, 10, 1, 25, 50, 10]], [10, [1, 5, 7, 6, 8, 5, 10, 5, 6, 9, 1, 25, 50, 10]], [11, [1, 9, 10, 6, 7, 7, 7, 6, 9, 8, 8, 1, 25, 50, 10]], [13, [1, 9, 10, 9, 7, 6, 6, 10, 10, 7, 8, 8, 9, 1, 25, 50, 10]], [14, [1, 5, 7, 7, 10, 8, 6, 7, 7, 9, 5, 7, 10, 5, 1, 25, 50, 10]], [13, [1, 9, 5, 7, 5, 10, 8, 10, 5, 10, 8, 9, 10, 1, 25, 50, 10]], [13, [1, 9, 6, 5, 7, 7, 5, 9, 5, 8, 10, 5, 7, 1, 25, 50, 10]],[9, [1, 8, 5, 7, 9, 10, 8, 9, 9, 1, 25, 50, 10]], [11, [1, 8, 8, 9, 10, 6, 6, 6, 10, 6, 5, 1, 25, 50, 10]], [5, [1, 6, 7, 8, 10, 1, 25, 50, 10]], [7, [1, 9, 6, 8, 6, 7, 9, 1, 25, 50, 10]], [7, [1, 7, 6, 6, 5, 10, 9, 1, 25, 50, 10]], [6, [1, 7, 9, 6, 10, 5, 1, 25, 50, 10]], [9, [1, 8, 9, 7, 7, 6, 8, 8, 9, 1, 25, 50, 10]], [7, [1, 5, 7, 7, 9, 6, 8, 1, 25, 50, 10]], [5, [1, 8, 5, 6, 6, 1, 25, 50, 10]], [5, [1, 8, 9, 5, 9, 1, 25, 50, 10]],[13, [1, 5, 7, 10, 6, 9, 5, 9, 5, 7, 9, 9, 7, 1, 25, 50, 10]], [13, [1, 6, 6, 5, 7, 7, 5, 8, 10, 10, 9, 10, 9, 1, 25, 50, 10]], [12, [1, 7, 10, 6, 9, 9, 9, 8, 8, 9, 6, 8, 1, 25, 50, 10]], [11, [1, 10, 8, 7, 6, 10, 9, 7, 6, 10, 7, 1, 25, 50, 10]], [13, [1, 9, 8, 10, 7, 5, 8, 7, 9, 10, 5, 8, 7, 1, 25, 50, 10]], [14, [1, 8, 5, 9, 6, 9, 5, 6, 7, 10, 10, 9, 8, 9, 1, 25, 50, 10]], [15, [1, 8, 6, 7, 8, 7, 8, 6, 5, 8, 7, 10, 8, 7, 5, 1, 25, 50, 10]], [11, [1, 8, 6, 7, 8, 5, 8, 9, 8, 6, 6, 1, 25, 50, 10]], [10, [1, 6, 5, 6, 6, 9, 5, 7, 6, 7, 1, 25, 50, 10]], [11, [1, 5, 5, 7, 9, 7, 8, 9, 10, 8, 10, 1, 25, 50, 10]],[14, [1, 6, 5, 9, 10, 6, 5, 9, 5, 8, 5, 10, 5, 8, 1, 25, 50, 10]], [12, [1, 10, 10, 6, 9, 7, 7, 10, 6, 7, 9, 7, 1, 25, 50, 10]], [13, [1, 9, 7, 10, 10, 6, 6, 7, 10, 8, 9, 6, 9, 1, 25, 50, 10]], [14, [1, 10, 8, 6, 7, 7, 7, 7, 8, 5, 10, 5, 5, 9, 1, 25, 50, 10]], [10, [1, 6, 6, 9, 7, 8, 10, 10, 7, 5, 1, 25, 50, 10]], [13, [1, 8, 9, 5, 6, 9, 5, 6, 8, 8, 8, 7, 8, 1, 25, 50, 10]], [13, [1, 7, 7, 9, 10, 6, 7, 6, 7, 9, 8, 9, 8, 1, 25, 50, 10]], [11, [1, 6, 7, 8, 9, 8, 9, 7, 10, 10, 6, 1, 25, 50, 10]], [10, [1, 7, 5, 5, 5, 7, 7, 8, 5, 6, 1, 25, 50, 10]], [13, [1, 9, 8, 9, 7, 8, 5, 7, 5, 5, 5, 10, 7, 1, 25, 50, 10]],[13, [1, 10, 6, 7, 5, 8, 5, 8, 9, 7, 5, 9, 6, 1, 25, 50, 10]], [14, [1, 10, 7, 8, 9, 10, 9, 6, 5, 9, 9, 9, 10, 9, 1, 25, 50, 10]], [14, [1, 7, 7, 10, 10, 6, 10, 8, 8, 10, 8, 10, 10, 7, 1, 25, 50, 10]], [10, [1, 9, 5, 10, 8, 9, 9, 6, 10, 5, 1, 25, 50, 10]], [14, [1, 7, 10, 10, 10, 7, 5, 9, 6, 10, 6, 7, 6, 7, 1, 25, 50, 10]], [12, [1, 6, 10, 9, 7, 9, 9, 10, 10, 10, 9, 7, 1, 25, 50, 10]], [10, [1, 5, 5, 8, 10, 7, 9, 7, 8, 9, 1, 25, 50, 10]], [10, [1, 7, 5, 9, 6, 7, 7, 8, 9, 5, 1, 25, 50, 10]], [13, [1, 6, 8, 9, 10, 6, 5, 5, 6, 10, 6, 9, 6, 1, 25, 50, 10]], [10, [1, 8, 9, 10, 7, 7, 8, 5, 9, 5, 1, 25, 50, 10]],[4, [1, 6, 6, 10, 1, 25, 50, 10]], [2, [1, 5, 1, 25, 50, 10]], [2, [1, 8, 1, 25, 50, 10]], [4, [1, 9, 9, 7, 1, 25, 50, 10]], [3, [1, 6, 10, 1, 1, 49, 10]], [4, [1, 10, 7, 7, 1, 25, 50, 10]], [4, [1, 9, 10, 6, 1, 25, 50, 10]], [4, [1, 9, 5, 7, 1, 25, 50, 10]], [4, [1, 8, 10, 7, 1, 25, 50, 10]], [4, [1, 7, 5, 10, 1, 25, 50, 10]], [4, [1, 8, 10, 10, 1, 25, 50, 10]], [5, [1, 9, 7, 7, 10, 1, 25, 50, 10]], [5, [1, 9, 6, 10, 6, 1, 25, 50, 10]], [4, [1, 5, 8, 9, 1, 25, 50, 10]], [2, [1, 10, 1, 25, 50, 10]], [5, [1, 9, 7, 6, 5, 1, 25, 50, 10]], [3, [1, 7, 10, 1, 1, 30, 10]], [2, [1, 5, 1, 25, 50, 10]], [2, [1, 6, 1, 25, 50, 10]], [2, [1, 6, 1, 25, 50, 10]]]\n",
        "\n",
        "y= [[0], [0], [0], [0], [0], [0], [0], [0], [0], [37], [0], [94], [41], [92], [93], [93], [0], [93],[40], [93], [11], [93], [92], [0], [93], [0], [94],[0], [0], [0], [0], [0], [0], [0], [0], [0], [0], [0], [0], [0], [0], [0], [0], [0], [0], [0],[0], [36], [0], [0], [0], [11], [91], [93], [43], [93],[0], [93], [93], [92], [93], [93], [41], [91], [93], [34],[0], [0], [0], [0], [0], [0], [0], [0], [0], [0],[0], [0], [0], [0], [0], [0], [0], [0], [0], [0],[0], [0], [0], [0], [0], [0], [0], [0], [0], [0],[0], [0], [0], [0], [0], [0], [0], [0], [0], [0],[0], [0], [0], [0], [0], [0], [0], [0], [0], [0],[0], [88], [88], [0], [11], [0], [0], [0], [0], [0], [0], [0], [0], [0], [86], [0], [19], [86], [84], [86]]\n",
        "\n",
        "\n",
        "x_test = [[7, [1, 9, 8, 8, 9, 9, 5, 1, 25, 50, 10]], [12, [1, 5, 5, 7, 6, 6, 7, 6, 6, 10, 7, 6, 1, 25, 50, 10]], [5, [1, 9, 6, 8, 10, 1, 25, 50, 10]], [11, [1, 10, 6, 10, 7, 10, 10, 6, 10, 6, 8, 1, 25, 50, 10]], [5, [1, 7, 10, 8, 6, 1, 25, 50, 10]],[5, [1, 10, 6, 9, 6, 1, 25, 50, 10]], [3, [1, 8, 9, 1, 1, 39, 10]], [5, [1, 5, 10, 5, 7, 1, 25, 50, 10]], [1, [1, 9, 1, 25, 50, 10]], [5, [1, 9, 7, 9, 9, 1, 25, 50, 10]],[14, [1, 10, 9, 9, 6, 6, 6, 6, 6, 8, 5, 6, 5, 6, 1, 25, 50, 10]], [12, [1, 9, 9, 9, 7, 5, 5, 6, 10, 6, 9, 9, 1, 25, 50, 10]], [12, [1, 7, 5, 6, 9, 8, 7, 10, 8, 5, 7, 6, 1, 25, 50, 10]], [14, [1, 5, 8, 7, 7, 10, 5, 6, 8, 6, 5, 9, 7, 5, 1, 25, 50, 10]], [12, [1, 10, 6, 5, 9, 5, 9, 5, 5, 6, 7, 8, 1, 25, 50, 10]], [11, [1, 10, 8, 5, 8, 8, 10, 6, 6, 5, 9, 1, 25, 50, 10]], [13, [1, 10, 5, 7, 7, 9, 10, 9, 6, 9, 5, 6, 10, 1, 25, 50, 10]], [13, [1, 6, 5, 7, 9, 8, 6, 5, 6, 7, 5, 6, 10, 1, 25, 50, 10]], [12, [1, 7, 9, 5, 8, 5, 6, 7, 10, 7, 9, 8, 1, 25, 50, 10]], [13, [1, 8, 8, 7, 9, 9, 10, 5, 9, 9, 8, 7, 5, 1, 25, 50, 10]],[3, [1, 8, 7, 1, 1, 20, 10]], [2, [1, 6, 1, 25, 50, 10]], [2, [1, 9, 1, 25, 50, 10]], [1, [1, 5, 1, 25, 50, 10]], [2, [1, 7, 1, 25, 50, 10]], [1, [1, 6, 1, 25, 50, 10]], [1, [1, 7, 1, 25, 50, 10]], [3, [1, 7, 9, 1, 1, 36, 10]], [5, [1, 8, 8, 5, 9, 1, 25, 50, 10]], [4, [1, 6, 10, 7, 1, 25, 50, 10]]]\n",
        "\n",
        "y_test = [[0], [0], [0], [0], [0],[0], [19], [0], [88], [0],[0], [0], [0], [0], [0], [0], [0], [0], [0], [0],[38], [92], [93], [93], [93], [94], [94], [40], [0], [0]]"
      ]
    },
    {
      "cell_type": "markdown",
      "metadata": {
        "id": "4JrUuZs4cMPn",
        "colab_type": "text"
      },
      "source": [
        "DNN"
      ]
    },
    {
      "cell_type": "code",
      "metadata": {
        "id": "6utraVOAnmZh",
        "colab_type": "code",
        "colab": {}
      },
      "source": [
        "from collections import Iterable\n",
        "def flatten(lis):\n",
        "     for item in lis:\n",
        "         if isinstance(item, Iterable) and not isinstance(item, str):\n",
        "             for x in flatten(item):\n",
        "                 yield x\n",
        "         else:        \n",
        "             yield item"
      ],
      "execution_count": 0,
      "outputs": []
    },
    {
      "cell_type": "code",
      "metadata": {
        "id": "tREDFqWJcLtk",
        "colab_type": "code",
        "outputId": "9e1f57ab-3202-4a7b-df13-167fdc30caeb",
        "colab": {
          "base_uri": "https://localhost:8080/",
          "height": 676
        }
      },
      "source": [
        "x = [[9, [1, 5, 8, 6, 5, 5, 8, 7, 10, 1, 25, 50, 10]], [8, [1, 9, 6, 7, 6, 7, 8, 8, 1, 25, 50, 10]], [8, [1, 7, 5, 8, 10, 6, 5, 8, 1, 25, 50, 10]], [4, [1, 8, 7, 7, 1, 25, 50, 10]], [7, [1, 7, 10, 9, 6, 8, 7, 1, 25, 50, 10]], [10, [1, 5, 9, 6, 5, 8, 7, 10, 7, 8, 1, 25, 50, 10]], [9, [1, 7, 5, 7, 7, 10, 8, 8, 9, 1, 25, 50, 10]], [6, [1, 8, 8, 9, 6, 5, 1, 25, 50, 10]], [7, [1, 6, 10, 9, 7, 5, 8, 1, 25, 50, 10]], [3, [1, 6, 7, 1, 1, 40, 10]], [5, [1, 9, 6, 8, 7, 1, 25, 50, 10]], [2, [1, 9, 1, 25, 50, 10]], [3, [1, 7, 7, 1, 1, 39, 10]], [2, [1, 5, 1, 25, 50, 10]], [1, [1, 9, 1, 25, 50, 10]], [1, [1, 8, 1, 25, 50, 10]], [4, [1, 7, 9, 8, 1, 25, 50, 10]], [2, [1, 8, 1, 25, 50, 10]],[3, [1, 7, 8, 1, 1, 11, 10]], [2, [1, 7, 1, 25, 50, 10]], [1, [1, 6, 1, 25, 50, 10]], [2, [1, 9, 1, 25, 50, 10]], [1, [1, 5, 1, 25, 50, 10]], [4, [1, 7, 10, 5, 1, 25, 50, 10]], [2, [1, 10, 1, 25, 50, 10]], [5, [1, 7, 9, 5, 6, 1, 25, 50, 10]], [1, [1, 10, 1, 25, 50, 10]],[5, [1, 5, 9, 5, 6, 1, 25, 50, 10]], [10, [1, 7, 7, 9, 6, 6, 10, 6, 6, 10, 1, 25, 50, 10]], [7, [1, 8, 10, 7, 7, 9, 7, 1, 25, 50, 10]], [10, [1, 9, 8, 5, 8, 6, 10, 7, 8, 9, 1, 25, 50, 10]], [10, [1, 5, 8, 8, 5, 6, 9, 8, 9, 5, 1, 25, 50, 10]], [9, [1, 5, 8, 6, 8, 6, 10, 6, 8, 1, 25, 50, 10]], [7, [1, 5, 8, 6, 5, 10, 8, 1, 25, 50, 10]], [6, [1, 8, 5, 8, 6, 10, 1, 25, 50, 10]], [10, [1, 6, 7, 5, 10, 7, 8, 5, 8, 8, 1, 25, 50, 10]], [7, [1, 6, 6, 8, 8, 8, 8, 1, 25, 50, 10]], [7, [1, 5, 8, 10, 7, 6, 9, 1, 25, 50, 10]], [10, [1, 9, 8, 6, 8, 5, 6, 9, 9, 7, 1, 25, 50, 10]], [5, [1, 10, 5, 8, 7, 1, 25, 50, 10]], [9, [1, 8, 8, 9, 5, 7, 6, 10, 6, 1, 25, 50, 10]], [7, [1, 5, 9, 9, 6, 5, 6, 1, 25, 50, 10]], [6, [1, 8, 8, 5, 8, 8, 1, 25, 50, 10]], [6, [1, 6, 6, 7, 6, 5, 1, 25, 50, 10]], [10, [1, 5, 8, 7, 6, 8, 6, 7, 9, 5, 1, 25, 50, 10]], [10, [1, 9, 10, 10, 8, 8, 8, 6, 7, 10, 1, 25, 50, 10]],[5, [1, 6, 7, 8, 5, 1, 25, 50, 10]], [3, [1, 6, 7, 1, 1, 13, 10]], [4, [1, 9, 8, 10, 1, 25, 50, 10]], [5, [1, 5, 10, 9, 7, 1, 25, 50, 10]], [4, [1, 5, 7, 7, 1, 25, 50, 10]], [3, [1, 10, 6, 1, 1, 15, 10]], [2, [1, 10, 1, 25, 50, 10]], [2, [1, 10, 1, 25, 50, 10]], [3, [1, 6, 8, 1, 1, 24, 10]], [1, [1, 6, 1, 25, 50, 10]],[4, [1, 9, 8, 6, 1, 25, 50, 10]], [2, [1, 8, 1, 25, 50, 10]], [1, [1, 7, 1, 25, 50, 10]], [1, [1, 7, 1, 25, 50, 10]], [2, [1, 7, 1, 25, 50, 10]], [2, [1, 6, 1, 25, 50, 10]], [3, [1, 9, 10, 1, 1, 26, 10]], [1, [1, 6, 1, 25, 50, 10]], [2, [1, 10, 1, 25, 50, 10]], [3, [1, 7, 9, 1, 1, 20, 10]],[13, [1, 7, 9, 6, 10, 6, 9, 9, 10, 6, 5, 9, 5, 1, 25, 50, 10]], [13, [1, 9, 10, 8, 8, 7, 9, 8, 6, 10, 8, 9, 6, 1, 25, 50, 10]], [12, [1, 6, 10, 9, 8, 8, 5, 7, 10, 9, 7, 6, 1, 25, 50, 10]], [11, [1, 5, 9, 10, 7, 8, 8, 7, 5, 9, 10, 1, 25, 50, 10]], [10, [1, 5, 7, 6, 8, 5, 10, 5, 6, 9, 1, 25, 50, 10]], [11, [1, 9, 10, 6, 7, 7, 7, 6, 9, 8, 8, 1, 25, 50, 10]], [13, [1, 9, 10, 9, 7, 6, 6, 10, 10, 7, 8, 8, 9, 1, 25, 50, 10]], [14, [1, 5, 7, 7, 10, 8, 6, 7, 7, 9, 5, 7, 10, 5, 1, 25, 50, 10]], [13, [1, 9, 5, 7, 5, 10, 8, 10, 5, 10, 8, 9, 10, 1, 25, 50, 10]], [13, [1, 9, 6, 5, 7, 7, 5, 9, 5, 8, 10, 5, 7, 1, 25, 50, 10]],[9, [1, 8, 5, 7, 9, 10, 8, 9, 9, 1, 25, 50, 10]], [11, [1, 8, 8, 9, 10, 6, 6, 6, 10, 6, 5, 1, 25, 50, 10]], [5, [1, 6, 7, 8, 10, 1, 25, 50, 10]], [7, [1, 9, 6, 8, 6, 7, 9, 1, 25, 50, 10]], [7, [1, 7, 6, 6, 5, 10, 9, 1, 25, 50, 10]], [6, [1, 7, 9, 6, 10, 5, 1, 25, 50, 10]], [9, [1, 8, 9, 7, 7, 6, 8, 8, 9, 1, 25, 50, 10]], [7, [1, 5, 7, 7, 9, 6, 8, 1, 25, 50, 10]], [5, [1, 8, 5, 6, 6, 1, 25, 50, 10]], [5, [1, 8, 9, 5, 9, 1, 25, 50, 10]],[13, [1, 5, 7, 10, 6, 9, 5, 9, 5, 7, 9, 9, 7, 1, 25, 50, 10]], [13, [1, 6, 6, 5, 7, 7, 5, 8, 10, 10, 9, 10, 9, 1, 25, 50, 10]], [12, [1, 7, 10, 6, 9, 9, 9, 8, 8, 9, 6, 8, 1, 25, 50, 10]], [11, [1, 10, 8, 7, 6, 10, 9, 7, 6, 10, 7, 1, 25, 50, 10]], [13, [1, 9, 8, 10, 7, 5, 8, 7, 9, 10, 5, 8, 7, 1, 25, 50, 10]], [14, [1, 8, 5, 9, 6, 9, 5, 6, 7, 10, 10, 9, 8, 9, 1, 25, 50, 10]], [15, [1, 8, 6, 7, 8, 7, 8, 6, 5, 8, 7, 10, 8, 7, 5, 1, 25, 50, 10]], [11, [1, 8, 6, 7, 8, 5, 8, 9, 8, 6, 6, 1, 25, 50, 10]], [10, [1, 6, 5, 6, 6, 9, 5, 7, 6, 7, 1, 25, 50, 10]], [11, [1, 5, 5, 7, 9, 7, 8, 9, 10, 8, 10, 1, 25, 50, 10]],[14, [1, 6, 5, 9, 10, 6, 5, 9, 5, 8, 5, 10, 5, 8, 1, 25, 50, 10]], [12, [1, 10, 10, 6, 9, 7, 7, 10, 6, 7, 9, 7, 1, 25, 50, 10]], [13, [1, 9, 7, 10, 10, 6, 6, 7, 10, 8, 9, 6, 9, 1, 25, 50, 10]], [14, [1, 10, 8, 6, 7, 7, 7, 7, 8, 5, 10, 5, 5, 9, 1, 25, 50, 10]], [10, [1, 6, 6, 9, 7, 8, 10, 10, 7, 5, 1, 25, 50, 10]], [13, [1, 8, 9, 5, 6, 9, 5, 6, 8, 8, 8, 7, 8, 1, 25, 50, 10]], [13, [1, 7, 7, 9, 10, 6, 7, 6, 7, 9, 8, 9, 8, 1, 25, 50, 10]], [11, [1, 6, 7, 8, 9, 8, 9, 7, 10, 10, 6, 1, 25, 50, 10]], [10, [1, 7, 5, 5, 5, 7, 7, 8, 5, 6, 1, 25, 50, 10]], [13, [1, 9, 8, 9, 7, 8, 5, 7, 5, 5, 5, 10, 7, 1, 25, 50, 10]],[13, [1, 10, 6, 7, 5, 8, 5, 8, 9, 7, 5, 9, 6, 1, 25, 50, 10]], [14, [1, 10, 7, 8, 9, 10, 9, 6, 5, 9, 9, 9, 10, 9, 1, 25, 50, 10]], [14, [1, 7, 7, 10, 10, 6, 10, 8, 8, 10, 8, 10, 10, 7, 1, 25, 50, 10]], [10, [1, 9, 5, 10, 8, 9, 9, 6, 10, 5, 1, 25, 50, 10]], [14, [1, 7, 10, 10, 10, 7, 5, 9, 6, 10, 6, 7, 6, 7, 1, 25, 50, 10]], [12, [1, 6, 10, 9, 7, 9, 9, 10, 10, 10, 9, 7, 1, 25, 50, 10]], [10, [1, 5, 5, 8, 10, 7, 9, 7, 8, 9, 1, 25, 50, 10]], [10, [1, 7, 5, 9, 6, 7, 7, 8, 9, 5, 1, 25, 50, 10]], [13, [1, 6, 8, 9, 10, 6, 5, 5, 6, 10, 6, 9, 6, 1, 25, 50, 10]], [10, [1, 8, 9, 10, 7, 7, 8, 5, 9, 5, 1, 25, 50, 10]],[4, [1, 6, 6, 10, 1, 25, 50, 10]], [2, [1, 5, 1, 25, 50, 10]], [2, [1, 8, 1, 25, 50, 10]], [4, [1, 9, 9, 7, 1, 25, 50, 10]], [3, [1, 6, 10, 1, 1, 49, 10]], [4, [1, 10, 7, 7, 1, 25, 50, 10]], [4, [1, 9, 10, 6, 1, 25, 50, 10]], [4, [1, 9, 5, 7, 1, 25, 50, 10]], [4, [1, 8, 10, 7, 1, 25, 50, 10]], [4, [1, 7, 5, 10, 1, 25, 50, 10]], [4, [1, 8, 10, 10, 1, 25, 50, 10]], [5, [1, 9, 7, 7, 10, 1, 25, 50, 10]], [5, [1, 9, 6, 10, 6, 1, 25, 50, 10]], [4, [1, 5, 8, 9, 1, 25, 50, 10]], [2, [1, 10, 1, 25, 50, 10]], [5, [1, 9, 7, 6, 5, 1, 25, 50, 10]], [3, [1, 7, 10, 1, 1, 30, 10]], [2, [1, 5, 1, 25, 50, 10]], [2, [1, 6, 1, 25, 50, 10]], [2, [1, 6, 1, 25, 50, 10]]]\n",
        "\n",
        "y= [[0], [0], [0], [0], [0], [0], [0], [0], [0], [37], [0], [94], [41], [92], [93], [93], [0], [93],[40], [93], [11], [93], [92], [0], [93], [0], [94],[0], [0], [0], [0], [0], [0], [0], [0], [0], [0], [0], [0], [0], [0], [0], [0], [0], [0], [0],[0], [36], [0], [0], [0], [11], [91], [93], [43], [93],[0], [93], [93], [92], [93], [93], [41], [91], [93], [34],[0], [0], [0], [0], [0], [0], [0], [0], [0], [0],[0], [0], [0], [0], [0], [0], [0], [0], [0], [0],[0], [0], [0], [0], [0], [0], [0], [0], [0], [0],[0], [0], [0], [0], [0], [0], [0], [0], [0], [0],[0], [0], [0], [0], [0], [0], [0], [0], [0], [0],[0], [88], [88], [0], [11], [0], [0], [0], [0], [0], [0], [0], [0], [0], [86], [0], [19], [86], [84], [86]]\n",
        "\n",
        "\n",
        "x_test = [[7, [1, 9, 8, 8, 9, 9, 5, 1, 25, 50, 10]], [12, [1, 5, 5, 7, 6, 6, 7, 6, 6, 10, 7, 6, 1, 25, 50, 10]], [5, [1, 9, 6, 8, 10, 1, 25, 50, 10]], [11, [1, 10, 6, 10, 7, 10, 10, 6, 10, 6, 8, 1, 25, 50, 10]], [5, [1, 7, 10, 8, 6, 1, 25, 50, 10]],[5, [1, 10, 6, 9, 6, 1, 25, 50, 10]], [3, [1, 8, 9, 1, 1, 39, 10]], [5, [1, 5, 10, 5, 7, 1, 25, 50, 10]], [1, [1, 9, 1, 25, 50, 10]], [5, [1, 9, 7, 9, 9, 1, 25, 50, 10]],[14, [1, 10, 9, 9, 6, 6, 6, 6, 6, 8, 5, 6, 5, 6, 1, 25, 50, 10]], [12, [1, 9, 9, 9, 7, 5, 5, 6, 10, 6, 9, 9, 1, 25, 50, 10]], [12, [1, 7, 5, 6, 9, 8, 7, 10, 8, 5, 7, 6, 1, 25, 50, 10]], [14, [1, 5, 8, 7, 7, 10, 5, 6, 8, 6, 5, 9, 7, 5, 1, 25, 50, 10]], [12, [1, 10, 6, 5, 9, 5, 9, 5, 5, 6, 7, 8, 1, 25, 50, 10]], [11, [1, 10, 8, 5, 8, 8, 10, 6, 6, 5, 9, 1, 25, 50, 10]], [13, [1, 10, 5, 7, 7, 9, 10, 9, 6, 9, 5, 6, 10, 1, 25, 50, 10]], [13, [1, 6, 5, 7, 9, 8, 6, 5, 6, 7, 5, 6, 10, 1, 25, 50, 10]], [12, [1, 7, 9, 5, 8, 5, 6, 7, 10, 7, 9, 8, 1, 25, 50, 10]], [13, [1, 8, 8, 7, 9, 9, 10, 5, 9, 9, 8, 7, 5, 1, 25, 50, 10]],[3, [1, 8, 7, 1, 1, 20, 10]], [2, [1, 6, 1, 25, 50, 10]], [2, [1, 9, 1, 25, 50, 10]], [1, [1, 5, 1, 25, 50, 10]], [2, [1, 7, 1, 25, 50, 10]], [1, [1, 6, 1, 25, 50, 10]], [1, [1, 7, 1, 25, 50, 10]], [3, [1, 7, 9, 1, 1, 36, 10]], [5, [1, 8, 8, 5, 9, 1, 25, 50, 10]], [4, [1, 6, 10, 7, 1, 25, 50, 10]]]\n",
        "\n",
        "y_test = [[0], [0], [0], [0], [0],[0], [19], [0], [88], [0],[0], [0], [0], [0], [0], [0], [0], [0], [0], [0],[38], [92], [93], [93], [93], [94], [94], [40], [0], [0]]\n",
        "\n",
        "\n",
        "# N is batch size; D_in is input dimension;\n",
        "# H is hidden dimension; D_out is output dimension.\n",
        "N, D_in, D_out, H = 64, 19 , 1 , 5\n",
        "\n",
        "for i in range(len(x)):\n",
        "  for j in range(D_in):\n",
        "    if len(x[i][1])<D_in:\n",
        "      x[i][1]+= [0 for _ in range(D_in-len(x[i][1]))]\n",
        "for i in range(len(x)):      \n",
        "      x[i] = list(flatten(x[i]))\n",
        "\n",
        "x, y = zip(*sorted(zip(x, y)))\n",
        "x=torch.FloatTensor(x)\n",
        "y=torch.FloatTensor(y)\n",
        "\n",
        "for i in range(len(x_test)):\n",
        "  for j in range(D_in):\n",
        "    if len(x_test[i][1])<D_in:\n",
        "      x_test[i][1]+= [0 for _ in range(D_in-len(x_test[i][1]))]\n",
        "for i in range(len(x_test)):      \n",
        "      x_test[i] = list(flatten(x_test[i]))\n",
        "x_test, y_test = zip(*sorted(zip(x_test, y_test)))\n",
        "x_test=torch.FloatTensor(x_test)\n",
        "y_test=torch.FloatTensor(y_test)\n",
        "\n",
        "\n",
        "\n",
        "# Use the nn package to define our model and loss function.\n",
        "model = torch.nn.Sequential(\n",
        "    torch.nn.Linear((D_in+1), H),\n",
        "    torch.nn.ReLU(),\n",
        "    torch.nn.Linear(H, H),\n",
        "    torch.nn.ReLU(),\n",
        "    torch.nn.Linear(H, D_out),\n",
        ")\n",
        "\n",
        "\n",
        "loss_fn = torch.nn.MSELoss(reduction='sum')\n",
        "\n",
        "learning_rate = 1e-3\n",
        "optimizer = torch.optim.Adam(model.parameters(), lr=learning_rate)\n",
        "for t in range(19000):\n",
        "    y_pred = model(x)\n",
        "    loss = loss_fn(y_pred, y)\n",
        "#     print(t, loss.item())\n",
        "    optimizer.zero_grad()\n",
        "    loss.backward()\n",
        "    optimizer.step()\n",
        "# print(\"Final Loss\",loss.item())\n",
        "# x_test=x\n",
        "# y_test=y\n",
        "Y_pred=model(x)\n",
        "\n",
        "layers=[int(x[i][0]) for i in range(len(x))]\n",
        "\n",
        "import matplotlib.pyplot as plt\n",
        "import numpy as np\n",
        "fig = plt.figure(figsize=(24,11))\n",
        "plt.scatter(layers, y.numpy())\n",
        "plt.plot(layers, y.numpy(), 'r',label='Original CNN output for Train Set')\n",
        "plt.plot(layers, Y_pred.detach().numpy(), 'b',label='Predicted CNN output for Train Set')\n",
        "plt.xlabel('Number of CNN Layers')\n",
        "plt.ylabel('Accuracy')\n",
        "plt.title(\"Comparison between CNN and DNN Accuracies\")\n",
        "plt.xticks(np.arange(min(layers), max(layers)+1, 1.0))\n",
        "plt.gca().legend(('Original CNN output for Train Set','Predicted CNN output for Train Set','Training Sample for CNN'))\n",
        "plt.gca().grid()\n",
        "plt.show()"
      ],
      "execution_count": 0,
      "outputs": [
        {
          "output_type": "display_data",
          "data": {
            "image/png": "[encoded data removed]",
            "text/plain": [
              "<Figure size 1728x792 with 1 Axes>"
            ]
          },
          "metadata": {
            "tags": []
          }
        }
      ]
    },
    {
      "cell_type": "markdown",
      "metadata": {
        "id": "fM0Z2ASesb7m",
        "colab_type": "text"
      },
      "source": [
        "Trying to linearize and plot"
      ]
    },
    {
      "cell_type": "code",
      "metadata": {
        "id": "BNGnA5pRup32",
        "colab_type": "code",
        "colab": {}
      },
      "source": [
        "def Remove(duplicate): \n",
        "    final_list = [] \n",
        "    for num in duplicate: \n",
        "        if num not in final_list: \n",
        "            final_list.append(num)\n",
        "    return final_list "
      ],
      "execution_count": 0,
      "outputs": []
    },
    {
      "cell_type": "code",
      "metadata": {
        "id": "CCZyc6u6sfWu",
        "colab_type": "code",
        "outputId": "de810d6f-8f00-4491-8b1e-71cb5a8ac717",
        "colab": {
          "base_uri": "https://localhost:8080/",
          "height": 839
        }
      },
      "source": [
        "import matplotlib.pyplot as plt\n",
        "import numpy as np\n",
        "\n",
        "x_test = [[7, [1, 9, 8, 8, 9, 9, 5, 1, 25, 50, 10]], [12, [1, 5, 5, 7, 6, 6, 7, 6, 6, 10, 7, 6, 1, 25, 50, 10]], [5, [1, 9, 6, 8, 10, 1, 25, 50, 10]], [11, [1, 10, 6, 10, 7, 10, 10, 6, 10, 6, 8, 1, 25, 50, 10]], [5, [1, 7, 10, 8, 6, 1, 25, 50, 10]],[5, [1, 10, 6, 9, 6, 1, 25, 50, 10]], [3, [1, 8, 9, 1, 1, 39, 10]], [5, [1, 5, 10, 5, 7, 1, 25, 50, 10]], [1, [1, 9, 1, 25, 50, 10]], [5, [1, 9, 7, 9, 9, 1, 25, 50, 10]],[14, [1, 10, 9, 9, 6, 6, 6, 6, 6, 8, 5, 6, 5, 6, 1, 25, 50, 10]], [12, [1, 9, 9, 9, 7, 5, 5, 6, 10, 6, 9, 9, 1, 25, 50, 10]], [12, [1, 7, 5, 6, 9, 8, 7, 10, 8, 5, 7, 6, 1, 25, 50, 10]], [14, [1, 5, 8, 7, 7, 10, 5, 6, 8, 6, 5, 9, 7, 5, 1, 25, 50, 10]], [12, [1, 10, 6, 5, 9, 5, 9, 5, 5, 6, 7, 8, 1, 25, 50, 10]], [11, [1, 10, 8, 5, 8, 8, 10, 6, 6, 5, 9, 1, 25, 50, 10]], [13, [1, 10, 5, 7, 7, 9, 10, 9, 6, 9, 5, 6, 10, 1, 25, 50, 10]], [13, [1, 6, 5, 7, 9, 8, 6, 5, 6, 7, 5, 6, 10, 1, 25, 50, 10]], [12, [1, 7, 9, 5, 8, 5, 6, 7, 10, 7, 9, 8, 1, 25, 50, 10]], [13, [1, 8, 8, 7, 9, 9, 10, 5, 9, 9, 8, 7, 5, 1, 25, 50, 10]],[3, [1, 8, 7, 1, 1, 20, 10]], [2, [1, 6, 1, 25, 50, 10]], [2, [1, 9, 1, 25, 50, 10]], [1, [1, 5, 1, 25, 50, 10]], [2, [1, 7, 1, 25, 50, 10]], [1, [1, 6, 1, 25, 50, 10]], [1, [1, 7, 1, 25, 50, 10]], [3, [1, 7, 9, 1, 1, 36, 10]], [5, [1, 8, 8, 5, 9, 1, 25, 50, 10]], [4, [1, 6, 10, 7, 1, 25, 50, 10]]]\n",
        "\n",
        "y_test = [[0], [0], [0], [0], [0],[0], [19], [0], [88], [0],[0], [0], [0], [0], [0], [0], [0], [0], [0], [0],[38], [92], [93], [93], [93], [94], [94], [40], [0], [0]]\n",
        "\n",
        "layers=[]\n",
        "layer_value=[]\n",
        "for lis in x_test:\n",
        "  layers.append(lis[0])\n",
        "  layer_value.append(Remove(lis[1]))\n",
        "\n",
        "y=[]\n",
        "y_predict=[]\n",
        "# print(layers)\n",
        "# print(layer_value)\n",
        "for i in range(len(layers)):\n",
        "  y.append(layers[i]+float(y_test[i][0]/100))\n",
        "  y_predict.append(layers[i]+float(Y_pred[i][0]/100))\n",
        "# print(y_predict)\n",
        "# print(layer_value[1])\n",
        "\n",
        "x=list(range(0, 60))\n",
        "fig = plt.figure(figsize=(30,14))\n",
        "for i in range(len(layer_value)):\n",
        "  yplot=[y[i]]*len(layer_value[i])\n",
        "  y_pred_plot=[y_predict[i]]*len(layer_value[i])\n",
        "  # print(yplot)\n",
        "  plt.scatter(layer_value[i],yplot)\n",
        "  plt.plot(layer_value[i],yplot,'r',label='Original CNN output for Train Set')\n",
        "  plt.plot(layer_value[i],y_pred_plot,'b',label='Predicted CNN output for Train Set')\n",
        "# plt.scatter(layers, y.numpy())\n",
        "# plt.plot(layers, y.numpy(), 'r',label='Original CNN output for Train Set')\n",
        "# plt.plot(layers, Y_pred.detach().numpy(), 'b',label='Predicted CNN output for Train Set')\n",
        "plt.xlabel('Number units in each layer')\n",
        "plt.ylabel('Number of Layers . Accuracy')\n",
        "plt.title(\"Comparison between CNN and DNN Accuracies\")\n",
        "# plt.xticks(np.arange(min(layers), max(layers)+1, 1.0))\n",
        "plt.yticks(np.arange(0, 16, 0.2))\n",
        "plt.gca().legend(('Original CNN output for Train Set','Predicted CNN output for Train Set','Training Sample for CNN'))\n",
        "plt.gca().grid()\n",
        "plt.show()"
      ],
      "execution_count": 0,
      "outputs": [
        {
          "output_type": "display_data",
          "data": {
            "image/png": "[encoded data removed]",
            "text/plain": [
              "<Figure size 2160x1008 with 1 Axes>"
            ]
          },
          "metadata": {
            "tags": []
          }
        }
      ]
    },
    {
      "cell_type": "markdown",
      "metadata": {
        "id": "1bw3ny6fQiLD",
        "colab_type": "text"
      },
      "source": [
        "Implementing Dimensional Reduction to plot for X-Axis"
      ]
    },
    {
      "cell_type": "code",
      "metadata": {
        "id": "oe6NbFWUQp8e",
        "colab_type": "code",
        "outputId": "31a8e8e9-30cc-4986-95eb-1559ed206fd4",
        "colab": {
          "base_uri": "https://localhost:8080/",
          "height": 676
        }
      },
      "source": [
        "from sklearn.decomposition import PCA\n",
        "pca = PCA(n_components=1)\n",
        "reduced = pca.fit_transform(x)\n",
        "# print(reduced)\n",
        "\n",
        "layers=list(flatten(reduced))\n",
        "# print(layers)\n",
        "\n",
        "# import matplotlib.pyplot as plt\n",
        "# import numpy as np\n",
        "# fig = plt.figure(figsize=(30,11))\n",
        "# plt.scatter(layers, y_test.numpy())\n",
        "# plt.plot(layers, y_test.numpy(), 'r',label='Original CNN output for Test Set')\n",
        "# plt.plot(layers, Y_pred.detach().numpy(), 'b',label='Predicted CNN output for Test Set')\n",
        "# plt.xlabel('Number of CNN Layers')\n",
        "# plt.ylabel('Accuracy')\n",
        "# plt.title(\"Comparison between CNN and DNN Accuracies\")\n",
        "# plt.xticks(np.arange(min(layers), max(layers)+1, 2.0))\n",
        "# plt.gca().legend(('Original CNN output for Test Set','Predicted CNN output for Test Set','Training Sample for CNN'))\n",
        "# plt.gca().grid()\n",
        "# plt.show()\n",
        "\n",
        "import matplotlib.pyplot as plt\n",
        "import numpy as np\n",
        "fig = plt.figure(figsize=(30,11))\n",
        "plt.scatter(layers, y.numpy())\n",
        "plt.plot(layers, y.numpy(), 'r',label='Original CNN output for Train Set')\n",
        "plt.plot(layers, Y_pred.detach().numpy(), 'b',label='Predicted CNN output for Train Set')\n",
        "plt.xlabel('Number of CNN Layers')\n",
        "plt.ylabel('Accuracy')\n",
        "plt.title(\"Comparison between CNN and DNN Accuracies\")\n",
        "plt.xticks(np.arange(min(layers), max(layers)+1, 2.0))\n",
        "plt.gca().legend(('Original CNN output for Train Set','Predicted CNN output for Train Set','Training Sample for CNN'))\n",
        "plt.gca().grid()\n",
        "plt.show()"
      ],
      "execution_count": 0,
      "outputs": [
        {
          "output_type": "display_data",
          "data": {
            "image/png": "[encoded data removed]",
            "text/plain": [
              "<Figure size 2160x792 with 1 Axes>"
            ]
          },
          "metadata": {
            "tags": []
          }
        }
      ]
    },
    {
      "cell_type": "code",
      "metadata": {
        "id": "vfhUqi6xTDsB",
        "colab_type": "code",
        "colab": {}
      },
      "source": [
        ""
      ],
      "execution_count": 0,
      "outputs": []
    },
    {
      "cell_type": "markdown",
      "metadata": {
        "id": "DDY4JGm4J4Bu",
        "colab_type": "text"
      },
      "source": [
        "Predict the input/Number of layers"
      ]
    },
    {
      "cell_type": "code",
      "metadata": {
        "id": "MQo7FqPpmWDS",
        "colab_type": "code",
        "colab": {}
      },
      "source": [
        "# x1 = torch.FloatTensor([[1],[2],[3],[4],[5],[6],[7],[8],[9],[10],[11],[12],[13],[14],[15],[16],[17],[18],[19],[20],[21],[22],[23],[24],[25],[26],[27],[28],[29],[30],[31],[32],[33],[34],[35],[36],[37],[38],[39],[40],[41],[42],[43],[44],[45],[46],[47],[48],[49],[50]])\n",
        "# y1 = torch.FloatTensor([[96],[96],[94],[96],[95],[11],[11],[11],[11],[11],[11],[11],[11],[11],[11],[11],[11],[11],[11],[11],[11],[11],[11],[11],[11],[11],[11],[11],[11],[11],[11],[11],[11],[11],[11],[11],[11],[11],[11],[11],[11],[11],[11],[11],[11],[11],[11],[11],[11],[11]]) \n",
        "\n",
        "# x2 = torch.FloatTensor([[1],[2],[3],[4],[5],[6],[7],[8],[9],[10]])\n",
        "# y2 = torch.FloatTensor([[96], [96], [94], [96], [96], [11],[11],[11],[11],[11]])\n",
        "\n",
        "# x3 = torch.FloatTensor([[43], [14], [17], [2], [32], [6], [34], [1], [25], [10]])\n",
        "# y3 = torch.FloatTensor( [[11], [11], [11], [96], [11], [96], [11], [96], [11], [11]])\n",
        "\n",
        "# x_list=[x1,x2,x3]\n",
        "# y_list=[y1,y2,y3]\n",
        "\n",
        "\n",
        "# Create Tensors to hold inputs and outputs\n",
        "# x = torch.randn(N, D_in)\n",
        "# y = torch.randn(N, D_out)\n",
        "\n",
        "\n",
        "# class DNN(nn.Module):\n",
        "#     def __init__(self,D_in,D_out,H):\n",
        "#         super(DNN, self).__init__()\n",
        "#         self.fc1 = nn.Linear(D_in, H)\n",
        "#         self.fc3 = nn.Linear(D_in, H)\n",
        "#         self.fc2 = nn.Linear(H,D_out)\n",
        "\n",
        "#     def forward(self, x):\n",
        "#         print(x.size())\n",
        "#         x = F.relu(self.fc1(x))\n",
        "#         print(x.size())\n",
        "#         x = F.relu(self.fc3(x))\n",
        "#         print(x.size())\n",
        "#         x = self.fc2(x)\n",
        "#         print(x.size())\n",
        "#         return x\n",
        "# model=DNN(1,1,5)\n",
        "\n",
        "# x_test = torch.FloatTensor([[1],[2],[3],[4],[5],[6],[7],[8],[9],[10],[11],[12],[13],[14],[15],[16],[17],[18],[19],[20],[21],[22],[23],[24],[25],[26],[27],[28],[29],[30],[31],[32],[33],[34],[35],[36],[37],[38],[39],[40],[41],[42],[43],[44],[45],[46],[47],[48],[49],[50]])\n",
        "# y_test = torch.FloatTensor([[96],[96],[94],[96],[95],[11],[11],[11],[11],[11],[11],[11],[11],[11],[11],[11],[11],[11],[11],[11],[11],[11],[11],[11],[11],[11],[11],[11],[11],[11],[11],[11],[11],[11],[11],[11],[11],[11],[11],[11],[11],[11],[11],[11],[11],[11],[11],[11],[11],[11]]) \n"
      ],
      "execution_count": 0,
      "outputs": []
    },
    {
      "cell_type": "code",
      "metadata": {
        "id": "ULzdt0R9J7EE",
        "colab_type": "code",
        "outputId": "7386994c-80c2-439d-cf35-044949d6e56d",
        "colab": {
          "base_uri": "https://localhost:8080/",
          "height": 204
        }
      },
      "source": [
        "import numpy as np\n",
        "import scipy.optimize\n",
        "\n",
        "# our forward model, paired layers of already-trained\n",
        "# weights and biases.\n",
        "# weights = [np.array(model.fc1.weight.data) np.array(model.fc2.weight.data)]\n",
        "parameters=list(model.parameters())\n",
        "# weights = [np.array(parameters[0].detach()), np.array(parameters[2].detach())]\n",
        "# biases = [np.array(parameters[1].detach()), np.array(parameters[3].detach())]\n",
        "\n",
        "weights = [parameters[0].data.numpy(), parameters[2].data.numpy()]\n",
        "biases = [parameters[1].data.numpy(), parameters[3].data.numpy()]\n",
        "\n",
        "def f(x):\n",
        "    for W, b in zip(weights, biases):\n",
        "        # relu activation.\n",
        "        x = np.clip(np.dot(W, x) + b, 0, np.inf)\n",
        "    return x\n",
        "\n",
        "zstar = 100\n",
        "# the loss we want to optimize: minimize difference\n",
        "# between zstar and f(x).\n",
        "def loss(x):\n",
        "    return abs(f(x) - zstar)\n",
        "\n",
        "x0 = 0\n",
        "result = scipy.optimize.minimize(loss, x0)\n",
        "print(result)\n",
        "print('Optimum number of layers: ',round(result['x'][0]))"
      ],
      "execution_count": 0,
      "outputs": [
        {
          "output_type": "stream",
          "text": [
            "      fun: 2.7430132831796072e-08\n",
            " hess_inv: array([[0.0790673]])\n",
            "      jac: array([11.46178246])\n",
            "  message: 'Desired error not necessarily achieved due to precision loss.'\n",
            "     nfev: 321\n",
            "      nit: 1\n",
            "     njev: 103\n",
            "   status: 2\n",
            "  success: False\n",
            "        x: array([2.10359925])\n",
            "Optimum number of layers:  2.0\n"
          ],
          "name": "stdout"
        }
      ]
    },
    {
      "cell_type": "code",
      "metadata": {
        "id": "fLBZtlWSp52E",
        "colab_type": "code",
        "colab": {}
      },
      "source": [
        "import matplotlib.pyplot as plt\n"
      ],
      "execution_count": 0,
      "outputs": []
    },
    {
      "cell_type": "code",
      "metadata": {
        "id": "HAe8xM56HUqF",
        "colab_type": "code",
        "outputId": "a5efd0c2-cefc-4e2c-fde5-7ff91b23e6aa",
        "colab": {
          "base_uri": "https://localhost:8080/",
          "height": 52
        }
      },
      "source": [
        "# import numpy as np\n",
        "# w=np.array(model.fc2.weight.data)\n",
        "# w"
      ],
      "execution_count": 0,
      "outputs": [
        {
          "output_type": "execute_result",
          "data": {
            "text/plain": [
              "array([[-5.7409334,  0.3857801,  5.1259446,  4.442956 ,  4.039679 ]],\n",
              "      dtype=float32)"
            ]
          },
          "metadata": {
            "tags": []
          },
          "execution_count": 35
        }
      ]
    },
    {
      "cell_type": "code",
      "metadata": {
        "id": "vTNL29HqZ0OV",
        "colab_type": "code",
        "colab": {}
      },
      "source": [
        "# fig = plt.figure()\n",
        "# plt.plot(train_counter, train_losses, color='blue')\n",
        "# plt.scatter(test_counter, test_losses, color='red')\n",
        "# plt.legend(['Train Loss', 'Test Loss'], loc='upper right')\n",
        "# plt.xlabel('number of training examples seen')\n",
        "# plt.ylabel('negative log likelihood loss')\n",
        "# fig"
      ],
      "execution_count": 0,
      "outputs": []
    },
    {
      "cell_type": "code",
      "metadata": {
        "id": "v9Nl2scHU7-K",
        "colab_type": "code",
        "colab": {}
      },
      "source": [
        "# class CNN(nn.Module):\n",
        "#     def __init__(self):\n",
        "#         super(CNN, self).__init__()\n",
        "#         self.conv1 = nn.Conv2d(1, 10, kernel_size=3)\n",
        "#         self.conv2 = nn.Conv2d(10, 10, kernel_size=3)\n",
        "#         self.conv3 = nn.Conv2d(10, 10, kernel_size=3)\n",
        "#         self.conv4 = nn.Conv2d(10, 20, kernel_size=3)\n",
        "# #         self.conv2_drop = nn.Dropout2d()\n",
        "#         self.fc1 = nn.Linear(320, 50)\n",
        "#         self.fc2 = nn.Linear(50, 10)\n",
        "\n",
        "#     def forward(self, x):\n",
        "#         print(x.shape)\n",
        "#         x = F.relu(F.max_pool2d(self.conv1(x), 1))\n",
        "#         print(x.shape)\n",
        "# #         x = F.relu(F.max_pool2d(self.conv2_drop(self.conv2(x)), 2))\n",
        "#         x = F.relu(F.max_pool2d(self.conv2(x), 1))\n",
        "#         print(x.shape)\n",
        "    \n",
        "#         x = F.relu(F.max_pool2d(self.conv3(x), 1))\n",
        "#         print(x.shape)\n",
        "        \n",
        "#         x = F.relu(F.max_pool2d(self.conv4(x), 1))\n",
        "#         print(x.shape)\n",
        "#         x = x.view(-1, 320)\n",
        "#         x = F.relu(self.fc1(x))\n",
        "# #         x = F.dropout(x, training=self.training)\n",
        "#         x = self.fc2(x)\n",
        "#         return F.log_softmax(x)"
      ],
      "execution_count": 0,
      "outputs": []
    },
    {
      "cell_type": "markdown",
      "metadata": {
        "id": "9QY5QNSXilpC",
        "colab_type": "text"
      },
      "source": [
        "Crude Example to dynamically change number of layers\n"
      ]
    },
    {
      "cell_type": "code",
      "metadata": {
        "id": "q46MOSgKipVw",
        "colab_type": "code",
        "colab": {}
      },
      "source": [
        "# from torch import nn\n",
        "# from collections import OrderedDict\n",
        "\n",
        "# class Net(nn.Module):\n",
        "    \n",
        "#     def __init__(self, n_layers):\n",
        "        \n",
        "#         super().__init__()\n",
        "        \n",
        "#         layers = OrderedDict()\n",
        "#         for i in range(n_layers):\n",
        "#             layers[str(i)] = nn.Linear(5,5)\n",
        "            \n",
        "#         self.layers = nn.Sequential(layers)\n",
        "#         print(self)\n",
        "        \n",
        "# Net(n_layers=3)"
      ],
      "execution_count": 0,
      "outputs": []
    },
    {
      "cell_type": "markdown",
      "metadata": {
        "id": "Wxxc9-4zF_qN",
        "colab_type": "text"
      },
      "source": [
        "https://pytorch.org/docs/stable/nn.html#torch.nn.ModuleList"
      ]
    },
    {
      "cell_type": "code",
      "metadata": {
        "id": "E9yYFMbMVB89",
        "colab_type": "code",
        "colab": {}
      },
      "source": [
        "# g_accuracy=[]\n",
        "# def test(model,g_accuracy):\n",
        "#   model.eval()\n",
        "#   test_loss = 0\n",
        "#   correct = 0\n",
        "#   with torch.no_grad():\n",
        "#     for data, target in test_loader:\n",
        "#       output = model(data)\n",
        "# #       print(output)\n",
        "      \n",
        "#       if len(output.size())==1:\n",
        "#         accuracy=0\n",
        "        \n",
        "#       else:\n",
        "#         test_loss += F.nll_loss(output, target, size_average=False).item()\n",
        "#         pred = output.data.max(1, keepdim=True)[1]\n",
        "#         correct += pred.eq(target.data.view_as(pred)).sum()\n",
        "#     test_loss /= len(test_loader.dataset)\n",
        "#     test_losses.append(test_loss)\n",
        "#     accuracy= 100. * correct / len(test_loader.dataset)\n",
        "# #   print('\\nTest set: Avg. loss: {:.4f}, Accuracy: {}/{} ({:.0f}%)\\n'.format(\n",
        "# #     test_loss, correct, len(test_loader.dataset),\n",
        "# #     100. * correct / len(test_loader.dataset)))\n",
        "#   return accuracy"
      ],
      "execution_count": 0,
      "outputs": []
    },
    {
      "cell_type": "code",
      "metadata": {
        "id": "Lrkhh7rTVDBx",
        "colab_type": "code",
        "colab": {}
      },
      "source": [
        "accuracy=test()\n",
        "print(\"Accuracy before Training:\",accuracy)\n",
        "for epoch in range(1, n_epochs + 1):\n",
        "  train(epoch)\n",
        "  accuracy=test()\n",
        "  print(\"Accuracy after Training:\",accuracy)"
      ],
      "execution_count": 0,
      "outputs": []
    },
    {
      "cell_type": "markdown",
      "metadata": {
        "id": "TqU9M3QIiQIi",
        "colab_type": "text"
      },
      "source": [
        "All together with for loops\n"
      ]
    },
    {
      "cell_type": "code",
      "metadata": {
        "id": "gu2MUmoBiSCG",
        "colab_type": "code",
        "colab": {}
      },
      "source": [
        "import random\n",
        "n_epochs = 3\n",
        "x=[]\n",
        "y=[]\n",
        "layer=range(26,51)\n",
        "for i in range(len(layer)):\n",
        "#   print('Iteration',i+1)\n",
        "#   layers=random.randint(2,51)\n",
        "  layers=layer[i]\n",
        "#   print('Iteration',i+1)\n",
        "  print('Layers',layers)\n",
        "  x.append([layers])\n",
        "  model1 = CNNtry(layers)\n",
        "  optimizer = optim.SGD(model1.parameters(), lr=learning_rate,momentum=momentum)\n",
        "#   accuracy=test()\n",
        "#   print(\"Accuracy before Training:\",accuracy)\n",
        "  for epoch in range(1, n_epochs + 1):\n",
        "    print('Epoch:',epoch)\n",
        "    train(epoch)\n",
        "  accuracy=test()\n",
        "  print(\"Accuracy after Training:\",accuracy)\n",
        "  y.append([accuracy])\n",
        "print('layers:',x)\n",
        "print(\"Accuracy:\",y)\n"
      ],
      "execution_count": 0,
      "outputs": []
    },
    {
      "cell_type": "markdown",
      "metadata": {
        "id": "7BPh01OPD5LF",
        "colab_type": "text"
      },
      "source": [
        "Layers 1\n",
        "Accuracy after Training: tensor(96)\n",
        "Layers 2\n",
        "Accuracy after Training: tensor(96)\n",
        "Layers 3\n",
        "Accuracy after Training: tensor(94)\n",
        "Layers 4\n",
        "Accuracy after Training: tensor(96)\n",
        "Layers 5\n",
        "Accuracy after Training: tensor(95)\n",
        "Layers 6\n",
        "Accuracy after Training: tensor(11)\n",
        "Layers 7\n",
        "Accuracy after Training: tensor(11)\n",
        "Layers 8\n",
        "Accuracy after Training: tensor(11)\n",
        "Layers 9\n",
        "Accuracy after Training: tensor(11)\n",
        "Layers 10\n",
        "Accuracy after Training: tensor(11)\n",
        "Layers 11\n",
        "Accuracy after Training: tensor(11)\n",
        "Layers 12\n",
        "Accuracy after Training: tensor(11)\n",
        "Layers 13\n",
        "Accuracy after Training: tensor(11)\n",
        "Layers 14\n",
        "Accuracy after Training: tensor(11)\n",
        "Layers 15\n",
        "Accuracy after Training: tensor(11)\n",
        "Layers 16\n",
        "Accuracy after Training: tensor(11)\n",
        "Layers 17\n",
        "Accuracy after Training: tensor(11)\n",
        "Layers 18\n",
        "Accuracy after Training: tensor(11)\n",
        "Layers 19\n",
        "Accuracy after Training: tensor(11)\n",
        "Layers 20\n",
        "Accuracy after Training: tensor(11)\n",
        "Layers 21\n",
        "Accuracy after Training: tensor(11)\n",
        "Layers 22\n",
        "Accuracy after Training: tensor(11)\n",
        "Layers 23\n",
        "Accuracy after Training: tensor(11)\n",
        "Layers 24\n",
        "Accuracy after Training: tensor(11)\n",
        "Layers 25\n",
        "Accuracy after Training: tensor(11)"
      ]
    },
    {
      "cell_type": "markdown",
      "metadata": {
        "id": "MXkiJzAZxueU",
        "colab_type": "text"
      },
      "source": [
        "Number of epochs:3\n",
        "\n",
        "> Indented block\n",
        "\n",
        "> Indented block\n",
        "\n",
        "\n",
        "\n",
        "\n",
        "layers: [[43], [14], [17], [34], [32], [6], [34], [12], [25], [13]]\n",
        "Accuracy: [[11], [11], [11], [11], [11], [96], [11], [11], [11], [11]]\n",
        "\n",
        "layers: [[1], [2], [3], [4], [5], [6], [7], [8], [9], [10]]\n",
        "Accuracy: [[96], [96], [94], [96], [11], [96], [11], [11], [11], [11]]"
      ]
    }
  ]
}