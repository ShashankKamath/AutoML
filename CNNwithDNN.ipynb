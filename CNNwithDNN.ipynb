{
  "nbformat": 4,
  "nbformat_minor": 0,
  "metadata": {
    "colab": {
      "name": "CNNwithDNN.ipynb",
      "version": "0.3.2",
      "provenance": [],
      "collapsed_sections": [],
      "include_colab_link": true
    },
    "kernelspec": {
      "name": "python3",
      "display_name": "Python 3"
    },
    "accelerator": "GPU"
  },
  "cells": [
    {
      "cell_type": "markdown",
      "metadata": {
        "id": "view-in-github",
        "colab_type": "text"
      },
      "source": [
        "<a href=\"https://colab.research.google.com/github/ShashankKamath/AutoML/blob/master/CNNwithDNN.ipynb\" target=\"_parent\"><img src=\"https://colab.research.google.com/assets/colab-badge.svg\" alt=\"Open In Colab\"/></a>"
      ]
    },
    {
      "cell_type": "code",
      "metadata": {
        "id": "-TQUFqGpZ-3B",
        "colab_type": "code",
        "outputId": "2d176455-d582-4a18-cce8-9bb3aea02d5e",
        "colab": {
          "base_uri": "https://localhost:8080/",
          "height": 122
        }
      },
      "source": [
        "import os\n",
        "from google.colab import drive\n",
        "drive.mount('/content/drive')\n",
        "os.chdir('/content/drive/My Drive/autoML')"
      ],
      "execution_count": 0,
      "outputs": [
        {
          "output_type": "stream",
          "text": [
            "Go to this URL in a browser: https://accounts.google.com/o/oauth2/auth?client_id=947318989803-6bn6qk8qdgf4n4g3pfee6491hc0brc4i.apps.googleusercontent.com&redirect_uri=urn%3Aietf%3Awg%3Aoauth%3A2.0%3Aoob&scope=email%20https%3A%2F%2Fwww.googleapis.com%2Fauth%2Fdocs.test%20https%3A%2F%2Fwww.googleapis.com%2Fauth%2Fdrive%20https%3A%2F%2Fwww.googleapis.com%2Fauth%2Fdrive.photos.readonly%20https%3A%2F%2Fwww.googleapis.com%2Fauth%2Fpeopleapi.readonly&response_type=code\n",
            "\n",
            "Enter your authorization code:\n",
            "··········\n",
            "Mounted at /content/drive\n"
          ],
          "name": "stdout"
        }
      ]
    },
    {
      "cell_type": "code",
      "metadata": {
        "id": "fus89qp9UQvN",
        "colab_type": "code",
        "colab": {}
      },
      "source": [
        "import torch\n",
        "import torchvision"
      ],
      "execution_count": 0,
      "outputs": []
    },
    {
      "cell_type": "code",
      "metadata": {
        "id": "oqMAv1_2Ui0g",
        "colab_type": "code",
        "outputId": "d58920ce-eca6-4f65-924f-efa0e92b3c43",
        "colab": {
          "base_uri": "https://localhost:8080/",
          "height": 34
        }
      },
      "source": [
        "n_epochs = 3\n",
        "batch_size_train = 64\n",
        "batch_size_test = 1000\n",
        "learning_rate = 0.01\n",
        "momentum = 0.5\n",
        "log_interval = 10\n",
        "\n",
        "random_seed = 1\n",
        "torch.backends.cudnn.enabled = False\n",
        "torch.manual_seed(random_seed)"
      ],
      "execution_count": 2,
      "outputs": [
        {
          "output_type": "execute_result",
          "data": {
            "text/plain": [
              "<torch._C.Generator at 0x7fd605505470>"
            ]
          },
          "metadata": {
            "tags": []
          },
          "execution_count": 2
        }
      ]
    },
    {
      "cell_type": "code",
      "metadata": {
        "id": "OiDjx3JIUnmY",
        "colab_type": "code",
        "outputId": "dff5f8ab-d266-4687-b0dc-4eaa63b64232",
        "colab": {
          "base_uri": "https://localhost:8080/",
          "height": 255
        }
      },
      "source": [
        "train_loader = torch.utils.data.DataLoader(\n",
        "  torchvision.datasets.MNIST('/files/', train=True, download=True,\n",
        "                             transform=torchvision.transforms.Compose([\n",
        "                               torchvision.transforms.ToTensor(),\n",
        "                               torchvision.transforms.Normalize(\n",
        "                                 (0.1307,), (0.3081,))\n",
        "                             ])),\n",
        "  batch_size=batch_size_train, shuffle=True)\n",
        "\n",
        "test_loader = torch.utils.data.DataLoader(\n",
        "  torchvision.datasets.MNIST('/files/', train=False, download=True,\n",
        "                             transform=torchvision.transforms.Compose([\n",
        "                               torchvision.transforms.ToTensor(),\n",
        "                               torchvision.transforms.Normalize(\n",
        "                                 (0.1307,), (0.3081,))\n",
        "                             ])),\n",
        "  batch_size=batch_size_test, shuffle=True)"
      ],
      "execution_count": 3,
      "outputs": [
        {
          "output_type": "stream",
          "text": [
            "\r0it [00:00, ?it/s]"
          ],
          "name": "stderr"
        },
        {
          "output_type": "stream",
          "text": [
            "Downloading http://yann.lecun.com/exdb/mnist/train-images-idx3-ubyte.gz to /files/MNIST/raw/train-images-idx3-ubyte.gz\n"
          ],
          "name": "stdout"
        },
        {
          "output_type": "stream",
          "text": [
            "9920512it [00:01, 8447529.89it/s]                            \n"
          ],
          "name": "stderr"
        },
        {
          "output_type": "stream",
          "text": [
            "Extracting /files/MNIST/raw/train-images-idx3-ubyte.gz\n"
          ],
          "name": "stdout"
        },
        {
          "output_type": "stream",
          "text": [
            "  0%|          | 0/28881 [00:00<?, ?it/s]"
          ],
          "name": "stderr"
        },
        {
          "output_type": "stream",
          "text": [
            "Downloading http://yann.lecun.com/exdb/mnist/train-labels-idx1-ubyte.gz to /files/MNIST/raw/train-labels-idx1-ubyte.gz\n"
          ],
          "name": "stdout"
        },
        {
          "output_type": "stream",
          "text": [
            "32768it [00:00, 129925.62it/s]           \n",
            "  0%|          | 0/1648877 [00:00<?, ?it/s]"
          ],
          "name": "stderr"
        },
        {
          "output_type": "stream",
          "text": [
            "Extracting /files/MNIST/raw/train-labels-idx1-ubyte.gz\n",
            "Downloading http://yann.lecun.com/exdb/mnist/t10k-images-idx3-ubyte.gz to /files/MNIST/raw/t10k-images-idx3-ubyte.gz\n"
          ],
          "name": "stdout"
        },
        {
          "output_type": "stream",
          "text": [
            "1654784it [00:00, 2124275.67it/s]                           \n",
            "0it [00:00, ?it/s]"
          ],
          "name": "stderr"
        },
        {
          "output_type": "stream",
          "text": [
            "Extracting /files/MNIST/raw/t10k-images-idx3-ubyte.gz\n",
            "Downloading http://yann.lecun.com/exdb/mnist/t10k-labels-idx1-ubyte.gz to /files/MNIST/raw/t10k-labels-idx1-ubyte.gz\n"
          ],
          "name": "stdout"
        },
        {
          "output_type": "stream",
          "text": [
            "8192it [00:00, 49660.12it/s]            \n"
          ],
          "name": "stderr"
        },
        {
          "output_type": "stream",
          "text": [
            "Extracting /files/MNIST/raw/t10k-labels-idx1-ubyte.gz\n",
            "Processing...\n",
            "Done!\n"
          ],
          "name": "stdout"
        }
      ]
    },
    {
      "cell_type": "code",
      "metadata": {
        "id": "PRd8UpuPUzq7",
        "colab_type": "code",
        "outputId": "755f71af-f6bd-4264-c1e5-14b15681dcff",
        "colab": {
          "base_uri": "https://localhost:8080/",
          "height": 34
        }
      },
      "source": [
        "examples = enumerate(test_loader)\n",
        "batch_idx, (example_data, example_targets) = next(examples)\n",
        "example_data.shape"
      ],
      "execution_count": 4,
      "outputs": [
        {
          "output_type": "execute_result",
          "data": {
            "text/plain": [
              "torch.Size([1000, 1, 28, 28])"
            ]
          },
          "metadata": {
            "tags": []
          },
          "execution_count": 4
        }
      ]
    },
    {
      "cell_type": "code",
      "metadata": {
        "id": "-NtO0SFoU3Bx",
        "colab_type": "code",
        "outputId": "feb57cdd-c646-41d3-f8ed-d995ba066672",
        "colab": {
          "base_uri": "https://localhost:8080/",
          "height": 551
        }
      },
      "source": [
        "import matplotlib.pyplot as plt\n",
        "\n",
        "fig = plt.figure()\n",
        "for i in range(6):\n",
        "  plt.subplot(2,3,i+1)\n",
        "  plt.tight_layout()\n",
        "  plt.imshow(example_data[i][0], cmap='gray', interpolation='none')\n",
        "  plt.title(\"Ground Truth: {}\".format(example_targets[i]))\n",
        "  plt.xticks([])\n",
        "  plt.yticks([])\n",
        "fig"
      ],
      "execution_count": 5,
      "outputs": [
        {
          "output_type": "execute_result",
          "data": {
            "image/png": "[encoded data removed]",
            "text/plain": [
              "<Figure size 432x288 with 6 Axes>"
            ]
          },
          "metadata": {
            "tags": []
          },
          "execution_count": 5
        },
        {
          "output_type": "display_data",
          "data": {
            "image/png": "[encoded data removed]",
            "text/plain": [
              "<Figure size 432x288 with 6 Axes>"
            ]
          },
          "metadata": {
            "tags": []
          }
        }
      ]
    },
    {
      "cell_type": "markdown",
      "metadata": {
        "id": "DvpjxbccU5ne",
        "colab_type": "text"
      },
      "source": [
        "Building the Network"
      ]
    },
    {
      "cell_type": "code",
      "metadata": {
        "id": "UCnKRAoVU69e",
        "colab_type": "code",
        "colab": {}
      },
      "source": [
        "import torch.nn as nn\n",
        "import torch.nn.functional as F\n",
        "import torch.optim as optim\n",
        "from torchsummary  import summary\n",
        "device = torch.device(\"cuda\" if torch.cuda.is_available() else \"cpu\")"
      ],
      "execution_count": 0,
      "outputs": []
    },
    {
      "cell_type": "markdown",
      "metadata": {
        "id": "LGE9QGvpT359",
        "colab_type": "text"
      },
      "source": [
        "Padding: ((n+2p-f)/s)+1 x((n+2p-f)/s)+1\n",
        "p= (f-1)/2 for output size to be same as input size\n"
      ]
    },
    {
      "cell_type": "markdown",
      "metadata": {
        "id": "g75UVpqlcCqx",
        "colab_type": "text"
      },
      "source": [
        "CNN Number of layers change with padding working\n"
      ]
    },
    {
      "cell_type": "code",
      "metadata": {
        "id": "lh9ddCrScCYh",
        "colab_type": "code",
        "outputId": "73164f75-5e94-44b3-903d-22bae8326b05",
        "colab": {
          "base_uri": "https://localhost:8080/",
          "height": 646
        }
      },
      "source": [
        "class CNNtry(nn.Module):\n",
        "    def __init__(self,numLayers):\n",
        "        super(CNNtry, self).__init__()\n",
        "        self.layers = nn.ModuleList()\n",
        "        self.layers.append(nn.Conv2d(1, 10, kernel_size=3,padding=1))\n",
        "        for i in range(numLayers - 2):\n",
        "          self.layers.append(nn.Conv2d(in_channels=10, out_channels=10, kernel_size=3,padding=1))  \n",
        "        self.layers.append(nn.Conv2d(10, 1, kernel_size=3,padding=1))\n",
        "        self.layers.append(nn.Linear(784,50))\n",
        "        self.layers.append(nn.Linear(50,10))\n",
        "#         print(self)\n",
        "\n",
        "    def forward(self, x):\n",
        "      y = x\n",
        "#       print(y.shape)\n",
        "      y = F.relu(F.max_pool2d(self.layers[0](y), 1))   \n",
        "#       print(y.shape)\n",
        "      for i in range(len(self.layers)-4):\n",
        "        y = F.relu(F.max_pool2d(self.layers[i+1](y), 1)) #self.layers[i+1](y)\n",
        "#         print(y.shape)\n",
        "      y = F.relu(F.max_pool2d(self.layers[-3](y), 1))\n",
        "#       print(y.size())\n",
        "      y = y.view(-1,784)\n",
        "      print(\"BFC\",y.size())\n",
        "      y = F.relu(self.layers[-2](y))\n",
        "      print(\"FC1\",y.size())\n",
        "      y = self.layers[-1](y)\n",
        "      print(\"FC2\",y.size())\n",
        "      \n",
        "      return F.log_softmax(y)\n",
        "  \n",
        "model1 = CNNtry(3)\n",
        "\n",
        "optimizer = optim.SGD(model1.parameters(), lr=learning_rate,\n",
        "                      momentum=momentum)  \n",
        "accuracy=test()"
      ],
      "execution_count": 0,
      "outputs": [
        {
          "output_type": "stream",
          "text": [
            "BFC torch.Size([1000, 784])\n",
            "FC1 torch.Size([1000, 50])\n",
            "FC2 torch.Size([1000, 10])\n"
          ],
          "name": "stdout"
        },
        {
          "output_type": "stream",
          "text": [
            "/usr/local/lib/python3.6/dist-packages/ipykernel_launcher.py:30: UserWarning: Implicit dimension choice for log_softmax has been deprecated. Change the call to include dim=X as an argument.\n",
            "/usr/local/lib/python3.6/dist-packages/torch/nn/_reduction.py:46: UserWarning: size_average and reduce args will be deprecated, please use reduction='sum' instead.\n",
            "  warnings.warn(warning.format(ret))\n"
          ],
          "name": "stderr"
        },
        {
          "output_type": "stream",
          "text": [
            "BFC torch.Size([1000, 784])\n",
            "FC1 torch.Size([1000, 50])\n",
            "FC2 torch.Size([1000, 10])\n",
            "BFC torch.Size([1000, 784])\n",
            "FC1 torch.Size([1000, 50])\n",
            "FC2 torch.Size([1000, 10])\n",
            "BFC torch.Size([1000, 784])\n",
            "FC1 torch.Size([1000, 50])\n",
            "FC2 torch.Size([1000, 10])\n",
            "BFC torch.Size([1000, 784])\n",
            "FC1 torch.Size([1000, 50])\n",
            "FC2 torch.Size([1000, 10])\n"
          ],
          "name": "stdout"
        },
        {
          "output_type": "error",
          "ename": "KeyboardInterrupt",
          "evalue": "ignored",
          "traceback": [
            "\u001b[0;31m---------------------------------------------------------------------------\u001b[0m",
            "\u001b[0;31mKeyboardInterrupt\u001b[0m                         Traceback (most recent call last)",
            "\u001b[0;32m<ipython-input-110-7b03abeea4e4>\u001b[0m in \u001b[0;36m<module>\u001b[0;34m()\u001b[0m\n\u001b[1;32m     34\u001b[0m optimizer = optim.SGD(model1.parameters(), lr=learning_rate,\n\u001b[1;32m     35\u001b[0m                       momentum=momentum)  \n\u001b[0;32m---> 36\u001b[0;31m \u001b[0maccuracy\u001b[0m\u001b[0;34m=\u001b[0m\u001b[0mtest\u001b[0m\u001b[0;34m(\u001b[0m\u001b[0;34m)\u001b[0m\u001b[0;34m\u001b[0m\u001b[0;34m\u001b[0m\u001b[0m\n\u001b[0m",
            "\u001b[0;32m<ipython-input-108-d180356536f0>\u001b[0m in \u001b[0;36mtest\u001b[0;34m()\u001b[0m\n\u001b[1;32m      5\u001b[0m   \u001b[0;32mwith\u001b[0m \u001b[0mtorch\u001b[0m\u001b[0;34m.\u001b[0m\u001b[0mno_grad\u001b[0m\u001b[0;34m(\u001b[0m\u001b[0;34m)\u001b[0m\u001b[0;34m:\u001b[0m\u001b[0;34m\u001b[0m\u001b[0;34m\u001b[0m\u001b[0m\n\u001b[1;32m      6\u001b[0m     \u001b[0;32mfor\u001b[0m \u001b[0mdata\u001b[0m\u001b[0;34m,\u001b[0m \u001b[0mtarget\u001b[0m \u001b[0;32min\u001b[0m \u001b[0mtest_loader\u001b[0m\u001b[0;34m:\u001b[0m\u001b[0;34m\u001b[0m\u001b[0;34m\u001b[0m\u001b[0m\n\u001b[0;32m----> 7\u001b[0;31m       \u001b[0moutput\u001b[0m \u001b[0;34m=\u001b[0m \u001b[0mmodel1\u001b[0m\u001b[0;34m(\u001b[0m\u001b[0mdata\u001b[0m\u001b[0;34m)\u001b[0m\u001b[0;34m\u001b[0m\u001b[0;34m\u001b[0m\u001b[0m\n\u001b[0m\u001b[1;32m      8\u001b[0m       \u001b[0mtest_loss\u001b[0m \u001b[0;34m+=\u001b[0m \u001b[0mF\u001b[0m\u001b[0;34m.\u001b[0m\u001b[0mnll_loss\u001b[0m\u001b[0;34m(\u001b[0m\u001b[0moutput\u001b[0m\u001b[0;34m,\u001b[0m \u001b[0mtarget\u001b[0m\u001b[0;34m,\u001b[0m \u001b[0msize_average\u001b[0m\u001b[0;34m=\u001b[0m\u001b[0;32mFalse\u001b[0m\u001b[0;34m)\u001b[0m\u001b[0;34m.\u001b[0m\u001b[0mitem\u001b[0m\u001b[0;34m(\u001b[0m\u001b[0;34m)\u001b[0m\u001b[0;34m\u001b[0m\u001b[0;34m\u001b[0m\u001b[0m\n\u001b[1;32m      9\u001b[0m       \u001b[0mpred\u001b[0m \u001b[0;34m=\u001b[0m \u001b[0moutput\u001b[0m\u001b[0;34m.\u001b[0m\u001b[0mdata\u001b[0m\u001b[0;34m.\u001b[0m\u001b[0mmax\u001b[0m\u001b[0;34m(\u001b[0m\u001b[0;36m1\u001b[0m\u001b[0;34m,\u001b[0m \u001b[0mkeepdim\u001b[0m\u001b[0;34m=\u001b[0m\u001b[0;32mTrue\u001b[0m\u001b[0;34m)\u001b[0m\u001b[0;34m[\u001b[0m\u001b[0;36m1\u001b[0m\u001b[0;34m]\u001b[0m\u001b[0;34m\u001b[0m\u001b[0;34m\u001b[0m\u001b[0m\n",
            "\u001b[0;32m/usr/local/lib/python3.6/dist-packages/torch/nn/modules/module.py\u001b[0m in \u001b[0;36m__call__\u001b[0;34m(self, *input, **kwargs)\u001b[0m\n\u001b[1;32m    491\u001b[0m             \u001b[0mresult\u001b[0m \u001b[0;34m=\u001b[0m \u001b[0mself\u001b[0m\u001b[0;34m.\u001b[0m\u001b[0m_slow_forward\u001b[0m\u001b[0;34m(\u001b[0m\u001b[0;34m*\u001b[0m\u001b[0minput\u001b[0m\u001b[0;34m,\u001b[0m \u001b[0;34m**\u001b[0m\u001b[0mkwargs\u001b[0m\u001b[0;34m)\u001b[0m\u001b[0;34m\u001b[0m\u001b[0;34m\u001b[0m\u001b[0m\n\u001b[1;32m    492\u001b[0m         \u001b[0;32melse\u001b[0m\u001b[0;34m:\u001b[0m\u001b[0;34m\u001b[0m\u001b[0;34m\u001b[0m\u001b[0m\n\u001b[0;32m--> 493\u001b[0;31m             \u001b[0mresult\u001b[0m \u001b[0;34m=\u001b[0m \u001b[0mself\u001b[0m\u001b[0;34m.\u001b[0m\u001b[0mforward\u001b[0m\u001b[0;34m(\u001b[0m\u001b[0;34m*\u001b[0m\u001b[0minput\u001b[0m\u001b[0;34m,\u001b[0m \u001b[0;34m**\u001b[0m\u001b[0mkwargs\u001b[0m\u001b[0;34m)\u001b[0m\u001b[0;34m\u001b[0m\u001b[0;34m\u001b[0m\u001b[0m\n\u001b[0m\u001b[1;32m    494\u001b[0m         \u001b[0;32mfor\u001b[0m \u001b[0mhook\u001b[0m \u001b[0;32min\u001b[0m \u001b[0mself\u001b[0m\u001b[0;34m.\u001b[0m\u001b[0m_forward_hooks\u001b[0m\u001b[0;34m.\u001b[0m\u001b[0mvalues\u001b[0m\u001b[0;34m(\u001b[0m\u001b[0;34m)\u001b[0m\u001b[0;34m:\u001b[0m\u001b[0;34m\u001b[0m\u001b[0;34m\u001b[0m\u001b[0m\n\u001b[1;32m    495\u001b[0m             \u001b[0mhook_result\u001b[0m \u001b[0;34m=\u001b[0m \u001b[0mhook\u001b[0m\u001b[0;34m(\u001b[0m\u001b[0mself\u001b[0m\u001b[0;34m,\u001b[0m \u001b[0minput\u001b[0m\u001b[0;34m,\u001b[0m \u001b[0mresult\u001b[0m\u001b[0;34m)\u001b[0m\u001b[0;34m\u001b[0m\u001b[0;34m\u001b[0m\u001b[0m\n",
            "\u001b[0;32m<ipython-input-110-7b03abeea4e4>\u001b[0m in \u001b[0;36mforward\u001b[0;34m(self, x)\u001b[0m\n\u001b[1;32m     17\u001b[0m \u001b[0;31m#       print(y.shape)\u001b[0m\u001b[0;34m\u001b[0m\u001b[0;34m\u001b[0m\u001b[0;34m\u001b[0m\u001b[0m\n\u001b[1;32m     18\u001b[0m       \u001b[0;32mfor\u001b[0m \u001b[0mi\u001b[0m \u001b[0;32min\u001b[0m \u001b[0mrange\u001b[0m\u001b[0;34m(\u001b[0m\u001b[0mlen\u001b[0m\u001b[0;34m(\u001b[0m\u001b[0mself\u001b[0m\u001b[0;34m.\u001b[0m\u001b[0mlayers\u001b[0m\u001b[0;34m)\u001b[0m\u001b[0;34m-\u001b[0m\u001b[0;36m4\u001b[0m\u001b[0;34m)\u001b[0m\u001b[0;34m:\u001b[0m\u001b[0;34m\u001b[0m\u001b[0;34m\u001b[0m\u001b[0m\n\u001b[0;32m---> 19\u001b[0;31m         \u001b[0my\u001b[0m \u001b[0;34m=\u001b[0m \u001b[0mF\u001b[0m\u001b[0;34m.\u001b[0m\u001b[0mrelu\u001b[0m\u001b[0;34m(\u001b[0m\u001b[0mF\u001b[0m\u001b[0;34m.\u001b[0m\u001b[0mmax_pool2d\u001b[0m\u001b[0;34m(\u001b[0m\u001b[0mself\u001b[0m\u001b[0;34m.\u001b[0m\u001b[0mlayers\u001b[0m\u001b[0;34m[\u001b[0m\u001b[0mi\u001b[0m\u001b[0;34m+\u001b[0m\u001b[0;36m1\u001b[0m\u001b[0;34m]\u001b[0m\u001b[0;34m(\u001b[0m\u001b[0my\u001b[0m\u001b[0;34m)\u001b[0m\u001b[0;34m,\u001b[0m \u001b[0;36m1\u001b[0m\u001b[0;34m)\u001b[0m\u001b[0;34m)\u001b[0m \u001b[0;31m#self.layers[i+1](y)\u001b[0m\u001b[0;34m\u001b[0m\u001b[0;34m\u001b[0m\u001b[0m\n\u001b[0m\u001b[1;32m     20\u001b[0m \u001b[0;31m#         print(y.shape)\u001b[0m\u001b[0;34m\u001b[0m\u001b[0;34m\u001b[0m\u001b[0;34m\u001b[0m\u001b[0m\n\u001b[1;32m     21\u001b[0m       \u001b[0my\u001b[0m \u001b[0;34m=\u001b[0m \u001b[0mF\u001b[0m\u001b[0;34m.\u001b[0m\u001b[0mrelu\u001b[0m\u001b[0;34m(\u001b[0m\u001b[0mF\u001b[0m\u001b[0;34m.\u001b[0m\u001b[0mmax_pool2d\u001b[0m\u001b[0;34m(\u001b[0m\u001b[0mself\u001b[0m\u001b[0;34m.\u001b[0m\u001b[0mlayers\u001b[0m\u001b[0;34m[\u001b[0m\u001b[0;34m-\u001b[0m\u001b[0;36m3\u001b[0m\u001b[0;34m]\u001b[0m\u001b[0;34m(\u001b[0m\u001b[0my\u001b[0m\u001b[0;34m)\u001b[0m\u001b[0;34m,\u001b[0m \u001b[0;36m1\u001b[0m\u001b[0;34m)\u001b[0m\u001b[0;34m)\u001b[0m\u001b[0;34m\u001b[0m\u001b[0;34m\u001b[0m\u001b[0m\n",
            "\u001b[0;32m/usr/local/lib/python3.6/dist-packages/torch/nn/modules/module.py\u001b[0m in \u001b[0;36m__call__\u001b[0;34m(self, *input, **kwargs)\u001b[0m\n\u001b[1;32m    491\u001b[0m             \u001b[0mresult\u001b[0m \u001b[0;34m=\u001b[0m \u001b[0mself\u001b[0m\u001b[0;34m.\u001b[0m\u001b[0m_slow_forward\u001b[0m\u001b[0;34m(\u001b[0m\u001b[0;34m*\u001b[0m\u001b[0minput\u001b[0m\u001b[0;34m,\u001b[0m \u001b[0;34m**\u001b[0m\u001b[0mkwargs\u001b[0m\u001b[0;34m)\u001b[0m\u001b[0;34m\u001b[0m\u001b[0;34m\u001b[0m\u001b[0m\n\u001b[1;32m    492\u001b[0m         \u001b[0;32melse\u001b[0m\u001b[0;34m:\u001b[0m\u001b[0;34m\u001b[0m\u001b[0;34m\u001b[0m\u001b[0m\n\u001b[0;32m--> 493\u001b[0;31m             \u001b[0mresult\u001b[0m \u001b[0;34m=\u001b[0m \u001b[0mself\u001b[0m\u001b[0;34m.\u001b[0m\u001b[0mforward\u001b[0m\u001b[0;34m(\u001b[0m\u001b[0;34m*\u001b[0m\u001b[0minput\u001b[0m\u001b[0;34m,\u001b[0m \u001b[0;34m**\u001b[0m\u001b[0mkwargs\u001b[0m\u001b[0;34m)\u001b[0m\u001b[0;34m\u001b[0m\u001b[0;34m\u001b[0m\u001b[0m\n\u001b[0m\u001b[1;32m    494\u001b[0m         \u001b[0;32mfor\u001b[0m \u001b[0mhook\u001b[0m \u001b[0;32min\u001b[0m \u001b[0mself\u001b[0m\u001b[0;34m.\u001b[0m\u001b[0m_forward_hooks\u001b[0m\u001b[0;34m.\u001b[0m\u001b[0mvalues\u001b[0m\u001b[0;34m(\u001b[0m\u001b[0;34m)\u001b[0m\u001b[0;34m:\u001b[0m\u001b[0;34m\u001b[0m\u001b[0;34m\u001b[0m\u001b[0m\n\u001b[1;32m    495\u001b[0m             \u001b[0mhook_result\u001b[0m \u001b[0;34m=\u001b[0m \u001b[0mhook\u001b[0m\u001b[0;34m(\u001b[0m\u001b[0mself\u001b[0m\u001b[0;34m,\u001b[0m \u001b[0minput\u001b[0m\u001b[0;34m,\u001b[0m \u001b[0mresult\u001b[0m\u001b[0;34m)\u001b[0m\u001b[0;34m\u001b[0m\u001b[0;34m\u001b[0m\u001b[0m\n",
            "\u001b[0;32m/usr/local/lib/python3.6/dist-packages/torch/nn/modules/conv.py\u001b[0m in \u001b[0;36mforward\u001b[0;34m(self, input)\u001b[0m\n\u001b[1;32m    336\u001b[0m                             _pair(0), self.dilation, self.groups)\n\u001b[1;32m    337\u001b[0m         return F.conv2d(input, self.weight, self.bias, self.stride,\n\u001b[0;32m--> 338\u001b[0;31m                         self.padding, self.dilation, self.groups)\n\u001b[0m\u001b[1;32m    339\u001b[0m \u001b[0;34m\u001b[0m\u001b[0m\n\u001b[1;32m    340\u001b[0m \u001b[0;34m\u001b[0m\u001b[0m\n",
            "\u001b[0;31mKeyboardInterrupt\u001b[0m: "
          ]
        }
      ]
    },
    {
      "cell_type": "code",
      "metadata": {
        "id": "xyTwo8A4F_Kx",
        "colab_type": "code",
        "outputId": "ff59cbf4-2702-4c41-a656-e2387a72dc55",
        "colab": {
          "base_uri": "https://localhost:8080/",
          "height": 1000
        }
      },
      "source": [
        "class CNNtry(nn.Module):\n",
        "    fc_unit=0\n",
        "    def __init__(self,numLayers,fc_unit):\n",
        "        super(CNNtry, self).__init__()\n",
        "        self.layers = nn.ModuleList()\n",
        "        self.layers.append(nn.Conv2d(1, 5, kernel_size=3,padding=0))\n",
        "#         try:\n",
        "        for i in range(numLayers - 2):\n",
        "          self.layers.append(nn.Conv2d(in_channels=5, out_channels=5, kernel_size=3,padding=0))  \n",
        "        self.layers.append(nn.Conv2d(5, 1, kernel_size=3,padding=0))\n",
        "        self.layers.append(nn.Linear(fc_unit,50))\n",
        "        self.layers.append(nn.Linear(50,10))\n",
        "        print(self)\n",
        "\n",
        "    def forward(self, x):\n",
        "      y = x\n",
        "#       print(y.shape)\n",
        "      try:\n",
        "        y = F.relu(F.max_pool2d(self.layers[0](y),kernel_size=(2, 2)))   \n",
        "        print(\"First Layer\",y.shape)\n",
        "        for i in range(len(self.layers)-4):\n",
        "          y = F.relu(F.max_pool2d(self.layers[i+1](y),kernel_size=(2, 2))) #self.layers[i+1](y)\n",
        "          print(\"Middle Layer\",y.shape)\n",
        "        y = F.relu(F.max_pool2d(self.layers[-3](y),kernel_size=(2,2)))\n",
        "        print(\"Last Layer\",y.size())\n",
        "\n",
        "        y = y.view(-1,(y.size(1)*y.size(2)*y.size(3)))\n",
        "        print(\"Before FC\",y.size())\n",
        "\n",
        "        y = F.relu(self.layers[-2](y))\n",
        "        print(\"FC1\",y.size())\n",
        "      \n",
        "        y = self.layers[-1](y)\n",
        "        print(\"FC2\",y.size())\n",
        "        \n",
        "        return F.log_softmax(y)\n",
        "      \n",
        "      except Exception as e:\n",
        "        print(\"Entered Exception\",str(e))  \n",
        "        if \"Kernel size can't be greater than actual input size\" in str(e):\n",
        "          print(\"Kernel Size exceed- Not possible config\")\n",
        "          return torch.tensor([0])\n",
        "        \n",
        "        \n",
        "        elif \"is invalid for input of size\" or \"size mismatch\" in str(e):\n",
        "          print(\"Fully Connected Change required\")\n",
        "#           y = y.view(-1,(y.size(1)*y.size(2)*y.size(3)))\n",
        "          y = y.view(y.size(0),-1)\n",
        "          fc_unit=y.size(1)\n",
        "          print(\"Layers:\",len(self.layers))\n",
        "          \n",
        "          model2 = CNNtry((len(self.layers)-2),fc_unit)\n",
        "          accuracy = test(model2,g_accuracy)\n",
        "          g_accuracy.append([accuracy])\n",
        "          print(\"Accuracy 2nd time\",accuracy)\n",
        "          accuracy_1=accuracy\n",
        "          return accuracy_1\n",
        "#         print(y.size()) \n",
        " \n",
        "num_layer=1\n",
        "model1 = CNNtry(num_layer,50)\n",
        "\n",
        "optimizer = optim.SGD(model1.parameters(), lr=learning_rate,momentum=momentum)\n",
        "try:\n",
        "  g_accuracy=[]\n",
        "  accuracy_1=test(model1,g_accuracy)\n",
        "  g_accuracy.append(accuracy_1)\n",
        "  print(\"Accuracy 1st time\",accuracy)\n",
        "except Exception as e:\n",
        "#   accuracy_1=g_accuracy[-1]\n",
        "  print(\"Entered Exception\",str(e))\n",
        "  \n",
        "\n",
        "print(g_accuracy)\n",
        "\n"
      ],
      "execution_count": 13,
      "outputs": [
        {
          "output_type": "stream",
          "text": [
            "CNNtry(\n",
            "  (layers): ModuleList(\n",
            "    (0): Conv2d(1, 5, kernel_size=(3, 3), stride=(1, 1))\n",
            "    (1): Conv2d(5, 1, kernel_size=(3, 3), stride=(1, 1))\n",
            "    (2): Linear(in_features=50, out_features=50, bias=True)\n",
            "    (3): Linear(in_features=50, out_features=10, bias=True)\n",
            "  )\n",
            ")\n",
            "First Layer torch.Size([1000, 5, 13, 13])\n",
            "Last Layer torch.Size([1000, 1, 5, 5])\n",
            "Before FC torch.Size([1000, 25])\n",
            "Entered Exception size mismatch, m1: [1000 x 25], m2: [50 x 50] at /pytorch/aten/src/TH/generic/THTensorMath.cpp:961\n",
            "Fully Connected Change required\n",
            "Layers: 4\n",
            "CNNtry(\n",
            "  (layers): ModuleList(\n",
            "    (0): Conv2d(1, 5, kernel_size=(3, 3), stride=(1, 1))\n",
            "    (1): Conv2d(5, 1, kernel_size=(3, 3), stride=(1, 1))\n",
            "    (2): Linear(in_features=25, out_features=50, bias=True)\n",
            "    (3): Linear(in_features=50, out_features=10, bias=True)\n",
            "  )\n",
            ")\n",
            "First Layer torch.Size([1000, 5, 13, 13])\n",
            "Last Layer torch.Size([1000, 1, 5, 5])\n",
            "Before FC torch.Size([1000, 25])\n",
            "FC1 torch.Size([1000, 50])\n",
            "FC2 torch.Size([1000, 10])\n",
            "First Layer torch.Size([1000, 5, 13, 13])\n",
            "Last Layer torch.Size([1000, 1, 5, 5])\n",
            "Before FC torch.Size([1000, 25])\n",
            "FC1 torch.Size([1000, 50])\n",
            "FC2 torch.Size([1000, 10])\n"
          ],
          "name": "stdout"
        },
        {
          "output_type": "stream",
          "text": [
            "/usr/local/lib/python3.6/dist-packages/ipykernel_launcher.py:36: UserWarning: Implicit dimension choice for log_softmax has been deprecated. Change the call to include dim=X as an argument.\n",
            "/usr/local/lib/python3.6/dist-packages/torch/nn/_reduction.py:46: UserWarning: size_average and reduce args will be deprecated, please use reduction='sum' instead.\n",
            "  warnings.warn(warning.format(ret))\n"
          ],
          "name": "stderr"
        },
        {
          "output_type": "stream",
          "text": [
            "First Layer torch.Size([1000, 5, 13, 13])\n",
            "Last Layer torch.Size([1000, 1, 5, 5])\n",
            "Before FC torch.Size([1000, 25])\n",
            "FC1 torch.Size([1000, 50])\n",
            "FC2 torch.Size([1000, 10])\n",
            "First Layer torch.Size([1000, 5, 13, 13])\n",
            "Last Layer torch.Size([1000, 1, 5, 5])\n",
            "Before FC torch.Size([1000, 25])\n",
            "FC1 torch.Size([1000, 50])\n",
            "FC2 torch.Size([1000, 10])\n",
            "First Layer torch.Size([1000, 5, 13, 13])\n",
            "Last Layer torch.Size([1000, 1, 5, 5])\n",
            "Before FC torch.Size([1000, 25])\n",
            "FC1 torch.Size([1000, 50])\n",
            "FC2 torch.Size([1000, 10])\n",
            "First Layer torch.Size([1000, 5, 13, 13])\n",
            "Last Layer torch.Size([1000, 1, 5, 5])\n",
            "Before FC torch.Size([1000, 25])\n",
            "FC1 torch.Size([1000, 50])\n",
            "FC2 torch.Size([1000, 10])\n",
            "First Layer torch.Size([1000, 5, 13, 13])\n",
            "Last Layer torch.Size([1000, 1, 5, 5])\n",
            "Before FC torch.Size([1000, 25])\n",
            "FC1 torch.Size([1000, 50])\n",
            "FC2 torch.Size([1000, 10])\n",
            "First Layer torch.Size([1000, 5, 13, 13])\n",
            "Last Layer torch.Size([1000, 1, 5, 5])\n",
            "Before FC torch.Size([1000, 25])\n",
            "FC1 torch.Size([1000, 50])\n",
            "FC2 torch.Size([1000, 10])\n",
            "First Layer torch.Size([1000, 5, 13, 13])\n",
            "Last Layer torch.Size([1000, 1, 5, 5])\n",
            "Before FC torch.Size([1000, 25])\n",
            "FC1 torch.Size([1000, 50])\n",
            "FC2 torch.Size([1000, 10])\n",
            "First Layer torch.Size([1000, 5, 13, 13])\n",
            "Last Layer torch.Size([1000, 1, 5, 5])\n",
            "Before FC torch.Size([1000, 25])\n",
            "FC1 torch.Size([1000, 50])\n",
            "FC2 torch.Size([1000, 10])\n",
            "Accuracy 2nd time tensor(11)\n",
            "Entered Exception Expected 2 or more dimensions (got 0)\n",
            "[[tensor(11)]]\n"
          ],
          "name": "stdout"
        }
      ]
    },
    {
      "cell_type": "markdown",
      "metadata": {
        "id": "-X_-9kf6U-Vx",
        "colab_type": "text"
      },
      "source": [
        "Training\n"
      ]
    },
    {
      "cell_type": "code",
      "metadata": {
        "id": "e8-wL6RaU_vN",
        "colab_type": "code",
        "colab": {}
      },
      "source": [
        "train_losses = []\n",
        "train_counter = []\n",
        "test_losses = []\n",
        "test_counter = [i*len(train_loader.dataset) for i in range(n_epochs + 1)]"
      ],
      "execution_count": 0,
      "outputs": []
    },
    {
      "cell_type": "code",
      "metadata": {
        "id": "Qie3vN-tVA1c",
        "colab_type": "code",
        "colab": {}
      },
      "source": [
        "def train(epoch):\n",
        "  model1.train()\n",
        "  for batch_idx, (data, target) in enumerate(train_loader):\n",
        "    optimizer.zero_grad()\n",
        "    output = model1(data)\n",
        "    loss = F.nll_loss(output, target)\n",
        "    loss.backward()\n",
        "    optimizer.step()\n",
        "    if batch_idx % log_interval == 0:\n",
        "#       print('Train Epoch: {} [{}/{} ({:.0f}%)]\\tLoss: {:.6f}'.format(\n",
        "#         epoch, batch_idx * len(data), len(train_loader.dataset),\n",
        "#         100. * batch_idx / len(train_loader), loss.item()))\n",
        "      train_losses.append(loss.item())\n",
        "      train_counter.append(\n",
        "        (batch_idx*64) + ((epoch-1)*len(train_loader.dataset)))\n",
        "      torch.save(model1.state_dict(), 'model.pth')\n",
        "      torch.save(optimizer.state_dict(), 'optimizer.pth')"
      ],
      "execution_count": 0,
      "outputs": []
    },
    {
      "cell_type": "markdown",
      "metadata": {
        "id": "b6p9eFVWlDeS",
        "colab_type": "text"
      },
      "source": [
        "Old test"
      ]
    },
    {
      "cell_type": "code",
      "metadata": {
        "id": "AP-7cHKklC3f",
        "colab_type": "code",
        "colab": {}
      },
      "source": [
        "def test():\n",
        "  model1.eval()\n",
        "  test_loss = 0\n",
        "  correct = 0\n",
        "  with torch.no_grad():\n",
        "    for data, target in test_loader:\n",
        "      output = model1(data)\n",
        "      test_loss += F.nll_loss(output, target, size_average=False).item()\n",
        "      pred = output.data.max(1, keepdim=True)[1]\n",
        "      correct += pred.eq(target.data.view_as(pred)).sum()\n",
        "  test_loss /= len(test_loader.dataset)\n",
        "  test_losses.append(test_loss)\n",
        "  accuracy= 100. * correct / len(test_loader.dataset)\n",
        "#   print('\\nTest set: Avg. loss: {:.4f}, Accuracy: {}/{} ({:.0f}%)\\n'.format(\n",
        "#     test_loss, correct, len(test_loader.dataset),\n",
        "#     100. * correct / len(test_loader.dataset)))\n",
        "  return accuracy"
      ],
      "execution_count": 0,
      "outputs": []
    },
    {
      "cell_type": "code",
      "metadata": {
        "id": "E9yYFMbMVB89",
        "colab_type": "code",
        "colab": {}
      },
      "source": [
        "g_accuracy=[]\n",
        "def test(model,g_accuracy):\n",
        "  model.eval()\n",
        "  test_loss = 0\n",
        "  correct = 0\n",
        "  with torch.no_grad():\n",
        "    for data, target in test_loader:\n",
        "      output = model(data)\n",
        "#       print(output)\n",
        "      \n",
        "      if len(output.size())==1:\n",
        "        accuracy=0\n",
        "        \n",
        "      else:\n",
        "        test_loss += F.nll_loss(output, target, size_average=False).item()\n",
        "        pred = output.data.max(1, keepdim=True)[1]\n",
        "        correct += pred.eq(target.data.view_as(pred)).sum()\n",
        "    test_loss /= len(test_loader.dataset)\n",
        "    test_losses.append(test_loss)\n",
        "    accuracy= 100. * correct / len(test_loader.dataset)\n",
        "#   print('\\nTest set: Avg. loss: {:.4f}, Accuracy: {}/{} ({:.0f}%)\\n'.format(\n",
        "#     test_loss, correct, len(test_loader.dataset),\n",
        "#     100. * correct / len(test_loader.dataset)))\n",
        "  return accuracy"
      ],
      "execution_count": 0,
      "outputs": []
    },
    {
      "cell_type": "code",
      "metadata": {
        "id": "Lrkhh7rTVDBx",
        "colab_type": "code",
        "colab": {}
      },
      "source": [
        "accuracy=test()\n",
        "print(\"Accuracy before Training:\",accuracy)\n",
        "for epoch in range(1, n_epochs + 1):\n",
        "  train(epoch)\n",
        "  accuracy=test()\n",
        "  print(\"Accuracy after Training:\",accuracy)"
      ],
      "execution_count": 0,
      "outputs": []
    },
    {
      "cell_type": "markdown",
      "metadata": {
        "id": "TqU9M3QIiQIi",
        "colab_type": "text"
      },
      "source": [
        "All together with for loops\n"
      ]
    },
    {
      "cell_type": "code",
      "metadata": {
        "id": "gu2MUmoBiSCG",
        "colab_type": "code",
        "colab": {}
      },
      "source": [
        "import random\n",
        "n_epochs = 3\n",
        "x=[]\n",
        "y=[]\n",
        "layer=range(26,51)\n",
        "for i in range(len(layer)):\n",
        "#   print('Iteration',i+1)\n",
        "#   layers=random.randint(2,51)\n",
        "  layers=layer[i]\n",
        "#   print('Iteration',i+1)\n",
        "  print('Layers',layers)\n",
        "  x.append([layers])\n",
        "  model1 = CNNtry(layers)\n",
        "  optimizer = optim.SGD(model1.parameters(), lr=learning_rate,momentum=momentum)\n",
        "#   accuracy=test()\n",
        "#   print(\"Accuracy before Training:\",accuracy)\n",
        "  for epoch in range(1, n_epochs + 1):\n",
        "    print('Epoch:',epoch)\n",
        "    train(epoch)\n",
        "  accuracy=test()\n",
        "  print(\"Accuracy after Training:\",accuracy)\n",
        "  y.append([accuracy])\n",
        "print('layers:',x)\n",
        "print(\"Accuracy:\",y)\n"
      ],
      "execution_count": 0,
      "outputs": []
    },
    {
      "cell_type": "markdown",
      "metadata": {
        "id": "7BPh01OPD5LF",
        "colab_type": "text"
      },
      "source": [
        "Layers 1\n",
        "Accuracy after Training: tensor(96)\n",
        "Layers 2\n",
        "Accuracy after Training: tensor(96)\n",
        "Layers 3\n",
        "Accuracy after Training: tensor(94)\n",
        "Layers 4\n",
        "Accuracy after Training: tensor(96)\n",
        "Layers 5\n",
        "Accuracy after Training: tensor(95)\n",
        "Layers 6\n",
        "Accuracy after Training: tensor(11)\n",
        "Layers 7\n",
        "Accuracy after Training: tensor(11)\n",
        "Layers 8\n",
        "Accuracy after Training: tensor(11)\n",
        "Layers 9\n",
        "Accuracy after Training: tensor(11)\n",
        "Layers 10\n",
        "Accuracy after Training: tensor(11)\n",
        "Layers 11\n",
        "Accuracy after Training: tensor(11)\n",
        "Layers 12\n",
        "Accuracy after Training: tensor(11)\n",
        "Layers 13\n",
        "Accuracy after Training: tensor(11)\n",
        "Layers 14\n",
        "Accuracy after Training: tensor(11)\n",
        "Layers 15\n",
        "Accuracy after Training: tensor(11)\n",
        "Layers 16\n",
        "Accuracy after Training: tensor(11)\n",
        "Layers 17\n",
        "Accuracy after Training: tensor(11)\n",
        "Layers 18\n",
        "Accuracy after Training: tensor(11)\n",
        "Layers 19\n",
        "Accuracy after Training: tensor(11)\n",
        "Layers 20\n",
        "Accuracy after Training: tensor(11)\n",
        "Layers 21\n",
        "Accuracy after Training: tensor(11)\n",
        "Layers 22\n",
        "Accuracy after Training: tensor(11)\n",
        "Layers 23\n",
        "Accuracy after Training: tensor(11)\n",
        "Layers 24\n",
        "Accuracy after Training: tensor(11)\n",
        "Layers 25\n",
        "Accuracy after Training: tensor(11)"
      ]
    },
    {
      "cell_type": "markdown",
      "metadata": {
        "id": "MXkiJzAZxueU",
        "colab_type": "text"
      },
      "source": [
        "Number of epochs:3\n",
        "\n",
        "> Indented block\n",
        "\n",
        "> Indented block\n",
        "\n",
        "\n",
        "\n",
        "\n",
        "layers: [[43], [14], [17], [34], [32], [6], [34], [12], [25], [13]]\n",
        "Accuracy: [[11], [11], [11], [11], [11], [96], [11], [11], [11], [11]]\n",
        "\n",
        "layers: [[1], [2], [3], [4], [5], [6], [7], [8], [9], [10]]\n",
        "Accuracy: [[96], [96], [94], [96], [11], [96], [11], [11], [11], [11]]"
      ]
    },
    {
      "cell_type": "markdown",
      "metadata": {
        "id": "4JrUuZs4cMPn",
        "colab_type": "text"
      },
      "source": [
        "DNN"
      ]
    },
    {
      "cell_type": "code",
      "metadata": {
        "id": "tREDFqWJcLtk",
        "colab_type": "code",
        "outputId": "dc1be3f2-2418-420c-f17c-4317316b59fe",
        "colab": {
          "base_uri": "https://localhost:8080/",
          "height": 1000
        }
      },
      "source": [
        "x1 = torch.FloatTensor([[1],[2],[3],[4],[5],[6],[7],[8],[9],[10],[11],[12],[13],[14],[15],[16],[17],[18],[19],[20],[21],[22],[23],[24],[25],[26],[27],[28],[29],[30],[31],[32],[33],[34],[35],[36],[37],[38],[39],[40],[41],[42],[43],[44],[45],[46],[47],[48],[49],[50]])\n",
        "y1 = torch.FloatTensor([[96],[96],[94],[96],[95],[11],[11],[11],[11],[11],[11],[11],[11],[11],[11],[11],[11],[11],[11],[11],[11],[11],[11],[11],[11],[11],[11],[11],[11],[11],[11],[11],[11],[11],[11],[11],[11],[11],[11],[11],[11],[11],[11],[11],[11],[11],[11],[11],[11],[11]]) \n",
        "\n",
        "x2 = torch.FloatTensor([[1],[2],[3],[4],[5],[6],[7],[8],[9],[10]])\n",
        "y2 = torch.FloatTensor([[96], [96], [94], [96], [96], [11],[11],[11],[11],[11]])\n",
        "\n",
        "x3 = torch.FloatTensor([[43], [14], [17], [2], [32], [6], [34], [1], [25], [10]])\n",
        "y3 = torch.FloatTensor( [[11], [11], [11], [96], [11], [96], [11], [96], [11], [11]])\n",
        "\n",
        "x_list=[x1,x2,x3]\n",
        "y_list=[y1,y2,y3]\n",
        "\n",
        "# N is batch size; D_in is input dimension;\n",
        "# H is hidden dimension; D_out is output dimension.\n",
        "N, D_in, D_out, H = 64, 1,1, 10\n",
        "\n",
        "# Create Tensors to hold inputs and outputs\n",
        "# x = torch.randn(N, D_in)\n",
        "# y = torch.randn(N, D_out)\n",
        "\n",
        "\n",
        "# class DNN(nn.Module):\n",
        "#     def __init__(self,D_in,D_out,H):\n",
        "#         super(DNN, self).__init__()\n",
        "#         self.fc1 = nn.Linear(D_in, H)\n",
        "#         self.fc3 = nn.Linear(D_in, H)\n",
        "#         self.fc2 = nn.Linear(H,D_out)\n",
        "\n",
        "#     def forward(self, x):\n",
        "#         print(x.size())\n",
        "#         x = F.relu(self.fc1(x))\n",
        "#         print(x.size())\n",
        "#         x = F.relu(self.fc3(x))\n",
        "#         print(x.size())\n",
        "#         x = self.fc2(x)\n",
        "#         print(x.size())\n",
        "#         return x\n",
        "# model=DNN(1,1,5)\n",
        "\n",
        "# Use the nn package to define our model and loss function.\n",
        "model = torch.nn.Sequential(\n",
        "    torch.nn.Linear(D_in, H),\n",
        "    torch.nn.ReLU(),\n",
        "    torch.nn.Linear(H, H),\n",
        "    torch.nn.ReLU(),\n",
        "    torch.nn.Linear(H, D_out),\n",
        ")\n",
        "\n",
        "\n",
        "loss_fn = torch.nn.MSELoss(reduction='sum')\n",
        "\n",
        "learning_rate = 1e-3\n",
        "optimizer = torch.optim.Adam(model.parameters(), lr=learning_rate)\n",
        "for i in range(len(x_list)):\n",
        "  x=x_list[i]\n",
        "  y=y_list[i]\n",
        "  for t in range(50000):\n",
        "      y_pred = model(x)\n",
        "      loss = loss_fn(y_pred, y)\n",
        "\n",
        "  #     print(t, loss.item())\n",
        "      optimizer.zero_grad()\n",
        "      loss.backward()\n",
        "      optimizer.step()\n",
        "\n",
        "\n",
        "  x_test = torch.FloatTensor([[1],[2],[3],[4],[5],[6],[7],[8],[9],[10],[11],[12],[13],[14],[15],[16],[17],[18],[19],[20],[21],[22],[23],[24],[25],[26],[27],[28],[29],[30],[31],[32],[33],[34],[35],[36],[37],[38],[39],[40],[41],[42],[43],[44],[45],[46],[47],[48],[49],[50]])\n",
        "  y_test = torch.FloatTensor([[96],[96],[94],[96],[95],[11],[11],[11],[11],[11],[11],[11],[11],[11],[11],[11],[11],[11],[11],[11],[11],[11],[11],[11],[11],[11],[11],[11],[11],[11],[11],[11],[11],[11],[11],[11],[11],[11],[11],[11],[11],[11],[11],[11],[11],[11],[11],[11],[11],[11]]) \n",
        "  Y_pred=model(x_test)\n",
        "\n",
        "\n",
        "\n",
        "  import matplotlib.pyplot as plt\n",
        "  import numpy as np\n",
        "  fig = plt.figure(figsize=(24,7))\n",
        "  plt.scatter(x.numpy(), y.numpy())\n",
        "  plt.plot(x_test.numpy(), y_test.numpy(), 'r',label='Original CNN output for Test Set')\n",
        "  plt.plot(x_test.numpy(), Y_pred.detach().numpy(), 'b',label='Predicted CNN output for Test Set')\n",
        "  plt.xlabel('Number of CNN Layers')\n",
        "  plt.ylabel('Accuracy')\n",
        "  plt.title(\"Comparison between CNN and DNN Accuracies\")\n",
        "  plt.xticks(np.arange(min(x_test), max(x_test)+1, 1.0))\n",
        "  plt.gca().legend(('Original CNN output for Test Set','Predicted CNN output for Test Set','Training Sample for CNN'))\n",
        "  plt.gca().grid()\n",
        "  plt.show()"
      ],
      "execution_count": 0,
      "outputs": [
        {
          "output_type": "display_data",
          "data": {
            "image/png": "[encoded data removed]",
            "text/plain": [
              "<Figure size 1728x504 with 1 Axes>"
            ]
          },
          "metadata": {
            "tags": []
          }
        },
        {
          "output_type": "display_data",
          "data": {
            "image/png": "[encoded data removed]",
            "text/plain": [
              "<Figure size 1728x504 with 1 Axes>"
            ]
          },
          "metadata": {
            "tags": []
          }
        },
        {
          "output_type": "display_data",
          "data": {
            "image/png": "[encoded data removed]",
            "text/plain": [
              "<Figure size 1728x504 with 1 Axes>"
            ]
          },
          "metadata": {
            "tags": []
          }
        }
      ]
    },
    {
      "cell_type": "markdown",
      "metadata": {
        "id": "DDY4JGm4J4Bu",
        "colab_type": "text"
      },
      "source": [
        "Predict the input/Number of layers"
      ]
    },
    {
      "cell_type": "code",
      "metadata": {
        "id": "ULzdt0R9J7EE",
        "colab_type": "code",
        "outputId": "7386994c-80c2-439d-cf35-044949d6e56d",
        "colab": {
          "base_uri": "https://localhost:8080/",
          "height": 204
        }
      },
      "source": [
        "import numpy as np\n",
        "import scipy.optimize\n",
        "\n",
        "# our forward model, paired layers of already-trained\n",
        "# weights and biases.\n",
        "# weights = [np.array(model.fc1.weight.data) np.array(model.fc2.weight.data)]\n",
        "parameters=list(model.parameters())\n",
        "# weights = [np.array(parameters[0].detach()), np.array(parameters[2].detach())]\n",
        "# biases = [np.array(parameters[1].detach()), np.array(parameters[3].detach())]\n",
        "\n",
        "weights = [parameters[0].data.numpy(), parameters[2].data.numpy()]\n",
        "biases = [parameters[1].data.numpy(), parameters[3].data.numpy()]\n",
        "\n",
        "def f(x):\n",
        "    for W, b in zip(weights, biases):\n",
        "        # relu activation.\n",
        "        x = np.clip(np.dot(W, x) + b, 0, np.inf)\n",
        "    return x\n",
        "\n",
        "zstar = 100\n",
        "# the loss we want to optimize: minimize difference\n",
        "# between zstar and f(x).\n",
        "def loss(x):\n",
        "    return abs(f(x) - zstar)\n",
        "\n",
        "x0 = 0\n",
        "result = scipy.optimize.minimize(loss, x0)\n",
        "print(result)\n",
        "print('Optimum number of layers: ',round(result['x'][0]))"
      ],
      "execution_count": 0,
      "outputs": [
        {
          "output_type": "stream",
          "text": [
            "      fun: 2.7430132831796072e-08\n",
            " hess_inv: array([[0.0790673]])\n",
            "      jac: array([11.46178246])\n",
            "  message: 'Desired error not necessarily achieved due to precision loss.'\n",
            "     nfev: 321\n",
            "      nit: 1\n",
            "     njev: 103\n",
            "   status: 2\n",
            "  success: False\n",
            "        x: array([2.10359925])\n",
            "Optimum number of layers:  2.0\n"
          ],
          "name": "stdout"
        }
      ]
    },
    {
      "cell_type": "code",
      "metadata": {
        "id": "fLBZtlWSp52E",
        "colab_type": "code",
        "colab": {}
      },
      "source": [
        "import matplotlib.pyplot as plt\n"
      ],
      "execution_count": 0,
      "outputs": []
    },
    {
      "cell_type": "code",
      "metadata": {
        "id": "HAe8xM56HUqF",
        "colab_type": "code",
        "outputId": "a5efd0c2-cefc-4e2c-fde5-7ff91b23e6aa",
        "colab": {
          "base_uri": "https://localhost:8080/",
          "height": 52
        }
      },
      "source": [
        "# import numpy as np\n",
        "# w=np.array(model.fc2.weight.data)\n",
        "# w"
      ],
      "execution_count": 0,
      "outputs": [
        {
          "output_type": "execute_result",
          "data": {
            "text/plain": [
              "array([[-5.7409334,  0.3857801,  5.1259446,  4.442956 ,  4.039679 ]],\n",
              "      dtype=float32)"
            ]
          },
          "metadata": {
            "tags": []
          },
          "execution_count": 35
        }
      ]
    },
    {
      "cell_type": "code",
      "metadata": {
        "id": "vTNL29HqZ0OV",
        "colab_type": "code",
        "colab": {}
      },
      "source": [
        "# fig = plt.figure()\n",
        "# plt.plot(train_counter, train_losses, color='blue')\n",
        "# plt.scatter(test_counter, test_losses, color='red')\n",
        "# plt.legend(['Train Loss', 'Test Loss'], loc='upper right')\n",
        "# plt.xlabel('number of training examples seen')\n",
        "# plt.ylabel('negative log likelihood loss')\n",
        "# fig"
      ],
      "execution_count": 0,
      "outputs": []
    },
    {
      "cell_type": "code",
      "metadata": {
        "id": "v9Nl2scHU7-K",
        "colab_type": "code",
        "colab": {}
      },
      "source": [
        "# class CNN(nn.Module):\n",
        "#     def __init__(self):\n",
        "#         super(CNN, self).__init__()\n",
        "#         self.conv1 = nn.Conv2d(1, 10, kernel_size=3)\n",
        "#         self.conv2 = nn.Conv2d(10, 10, kernel_size=3)\n",
        "#         self.conv3 = nn.Conv2d(10, 10, kernel_size=3)\n",
        "#         self.conv4 = nn.Conv2d(10, 20, kernel_size=3)\n",
        "# #         self.conv2_drop = nn.Dropout2d()\n",
        "#         self.fc1 = nn.Linear(320, 50)\n",
        "#         self.fc2 = nn.Linear(50, 10)\n",
        "\n",
        "#     def forward(self, x):\n",
        "#         print(x.shape)\n",
        "#         x = F.relu(F.max_pool2d(self.conv1(x), 1))\n",
        "#         print(x.shape)\n",
        "# #         x = F.relu(F.max_pool2d(self.conv2_drop(self.conv2(x)), 2))\n",
        "#         x = F.relu(F.max_pool2d(self.conv2(x), 1))\n",
        "#         print(x.shape)\n",
        "    \n",
        "#         x = F.relu(F.max_pool2d(self.conv3(x), 1))\n",
        "#         print(x.shape)\n",
        "        \n",
        "#         x = F.relu(F.max_pool2d(self.conv4(x), 1))\n",
        "#         print(x.shape)\n",
        "#         x = x.view(-1, 320)\n",
        "#         x = F.relu(self.fc1(x))\n",
        "# #         x = F.dropout(x, training=self.training)\n",
        "#         x = self.fc2(x)\n",
        "#         return F.log_softmax(x)"
      ],
      "execution_count": 0,
      "outputs": []
    },
    {
      "cell_type": "markdown",
      "metadata": {
        "id": "9QY5QNSXilpC",
        "colab_type": "text"
      },
      "source": [
        "Crude Example to dynamically change number of layers\n"
      ]
    },
    {
      "cell_type": "code",
      "metadata": {
        "id": "q46MOSgKipVw",
        "colab_type": "code",
        "colab": {}
      },
      "source": [
        "# from torch import nn\n",
        "# from collections import OrderedDict\n",
        "\n",
        "# class Net(nn.Module):\n",
        "    \n",
        "#     def __init__(self, n_layers):\n",
        "        \n",
        "#         super().__init__()\n",
        "        \n",
        "#         layers = OrderedDict()\n",
        "#         for i in range(n_layers):\n",
        "#             layers[str(i)] = nn.Linear(5,5)\n",
        "            \n",
        "#         self.layers = nn.Sequential(layers)\n",
        "#         print(self)\n",
        "        \n",
        "# Net(n_layers=3)"
      ],
      "execution_count": 0,
      "outputs": []
    },
    {
      "cell_type": "markdown",
      "metadata": {
        "id": "Wxxc9-4zF_qN",
        "colab_type": "text"
      },
      "source": [
        "https://pytorch.org/docs/stable/nn.html#torch.nn.ModuleList"
      ]
    }
  ]
}